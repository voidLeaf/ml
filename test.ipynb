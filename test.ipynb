{
 cells [
  {
   cell_type code,
   execution_count 408,
   metadata {
    collapsed false
   },
   outputs [],
   source [
    import pandas as pdn,
    import numpy as npn,
    from sklearn.svm import SVRn,
    import matplotlib.pyplot as pltn,
    import seaborn as sbn,
    from sklearn.cross_validation import cross_val_scoren,
    from sklearn.cross_validation import cross_val_predictn,
    from sklearn.cross_validation import KFoldn,
    from sklearn.discriminant_analysis import LinearDiscriminantAnalysisn,
    from sklearn import linear_modeln,
    from sklearn import neighbors, datasetsn,
    from sklearn.tree import DecisionTreeClassifier
   ]
  },
  {
   cell_type code,
   execution_count 4,
   metadata {
    collapsed false
   },
   outputs [],
   source [
    rw = pd.read_csv('winequality-red.csv',sep=';')n,
    ww = pd.read_csv('winequality-white.csv',sep=';')
   ]
  },
  {
   cell_type code,
   execution_count 5,
   metadata {
    collapsed false
   },
   outputs [],
   source [
    y = rw.iloc[,-1]n,
    x = rw.iloc[,0-1]
   ]
  },
  {
   cell_type code,
   execution_count 339,
   metadata {
    collapsed true
   },
   outputs [],
   source [
    def compute(y,y1)n,
        z=0n,
        m = np.zeros((13,13), dtype=np.int)n,
        for i in range(len(y))n,
            class1 = int(y[i])n,
            class2 = int(round(y1[i]))n,
            m[class1,class2]+=1n,
            #z+=abs(y1[i]-y[i])n,
            if(class1==class2)n,
                z+=1n,
        df = pd.DataFrame(m[39,39], index=list('345678'), columns=list('345678'))n,
        z=float(z)(len(y))n,
        return (df,z)n,
                n,
            
   ]
  },
  {
   cell_type code,
   execution_count 93,
   metadata {
    collapsed false
   },
   outputs [
    {
     data {
      textplain [
       0.7123202001250781
      ]
     },
     execution_count 93,
     metadata {},
     output_type execute_result
    }
   ],
   source [
    lw = 2n,
    svr_rbf = SVR(kernel='rbf',epsilon=0.1,C=100)n,
    y_rbf = cross_val_score(svr_rbf, x, y, cv=5)n,
    y_rbfn,
    #plt.scatter(y, y_rbf, color='#0099cc',lw=lw, label='RBF model')n,
    #plt.show()n,
    y_rbf = cross_val_predict(svr_rbf, x, y, cv=5)n,
    #metrics.accuracy_score(y, predicted) n,
    #plt.scatter(y, y_rbf, color='#0099cc',lw=lw, label='RBF model')n,
    #plt.show()n,
    (kappa,acc)=compute(y,y_rbf)n,
    kappan,
    acc
   ]
  },
  {
   cell_type code,
   execution_count 295,
   metadata {
    collapsed false
   },
   outputs [],
   source [
    def kfoldValidation(df,model,split)n,
        kf = KFold(len(df),n_folds = split)n,
        z=0n,
        kappas=[]n,
        for train_index, test_index in kfn,
            #print train_indexn,
            print len(train_index)n,
            trainset = df[map(lambda xx in train_index, df.index)]n,
            testset = df[map(lambda xx in test_index, df.index)]n,
            trainx = trainset.iloc[,0-1]n,
            trainy = trainset.iloc[,-1]n,
            testx = testset.iloc[,0-1]n,
            testy = testset.iloc[,-1].tolist()n,
            y_rbf= model.fit(trainx, trainy).predict(testx)n,
            #print y_rbfn,
            (kappa,k) = compute(testy,y_rbf)n,
            z =z+kn,
            kappas.append(kappa)n,
            print kn,
        #print zsplitn,
        return (kappas,zsplit)n,
            
   ]
  },
  {
   cell_type code,
   execution_count 340,
   metadata {
    collapsed false
   },
   outputs [
    {
     name stdout,
     output_type stream,
     text [
      1279n,
      0.590625n,
      1279n,
      0.553125n,
      1279n,
      0.515625n,
      1279n,
      0.559375n,
      1280n,
      0.592476489028n
     ]
    },
    {
     data {
      textplain [
       0.5622452978056426
      ]
     },
     execution_count 340,
     metadata {},
     output_type execute_result
    }
   ],
   source [
    svr_rbf = SVR(kernel='rbf',epsilon=0.4,C=6,gamma=0.003)n,
    #help(KFold)n,
    (kappa,z)=kfoldValidation(rw,svr_rbf,5)n,
    zn,
    #kappa[0]
   ]
  },
  {
   cell_type code,
   execution_count 341,
   metadata {
    collapsed false
   },
   outputs [
    {
     name stdout,
     output_type stream,
     text [
      3918n,
      0.45n,
      3918n,
      0.475510204082n,
      3918n,
      0.523469387755n,
      3919n,
      0.497446373851n,
      3919n,
      0.556690500511n
     ]
    },
    {
     data {
      textplain [
       0.5006232932396657
      ]
     },
     execution_count 341,
     metadata {},
     output_type execute_result
    }
   ],
   source [
    svr_rbf = SVR(kernel='rbf',epsilon=0.4,C=6,gamma=0.001)n,
    #help(KFold)n,
    (kappa,z)=kfoldValidation(ww,svr_rbf,5)n,
    zn,
    #kappa[0]
   ]
  },
  {
   cell_type code,
   execution_count 342,
   metadata {
    collapsed false
   },
   outputs [
    {
     name stdout,
     output_type stream,
     text [
      1279n,
      0.571875n,
      1279n,
      0.534375n,
      1279n,
      0.61875n,
      1279n,
      0.5625n,
      1280n,
      0.605015673981n
     ]
    },
    {
     data {
      textplain [
       0.5785031347962383
      ]
     },
     execution_count 342,
     metadata {},
     output_type execute_result
    }
   ],
   source [
    lda = LinearDiscriminantAnalysis(n_components=6)n,
    (kappa,z) =kfoldValidation(rw,lda,5)n,
    z
   ]
  },
  {
   cell_type code,
   execution_count 397,
   metadata {
    collapsed false
   },
   outputs [
    {
     name stdout,
     output_type stream,
     text [
      3918n,
      0.461224489796n,
      3918n,
      0.49387755102n,
      3918n,
      0.525510204082n,
      3919n,
      0.542390194076n,
      3919n,
      0.533197139939n
     ]
    },
    {
     data {
      textplain [
       0.5112399157824519
      ]
     },
     execution_count 397,
     metadata {},
     output_type execute_result
    }
   ],
   source [
    lda = LinearDiscriminantAnalysis(n_components=6)n,
    (kappa,z) =kfoldValidation(ww,lda,5)n,
    z
   ]
  },
  {
   cell_type code,
   execution_count 372,
   metadata {
    collapsed false
   },
   outputs [
    {
     name stdout,
     output_type stream,
     text [
      1279n,
      0.5625n,
      1279n,
      0.55625n,
      1279n,
      0.596875n,
      1279n,
      0.559375n,
      1280n,
      0.652037617555n
     ]
    },
    {
     data {
      textplain [
       0.5854075235109717
      ]
     },
     execution_count 372,
     metadata {},
     output_type execute_result
    }
   ],
   source [
    reg = linear_model.Ridge (alpha = 10)n,
    (kappa,z) = kfoldValidation(rw,reg,5)n,
    z
   ]
  },
  {
   cell_type code,
   execution_count 389,
   metadata {
    collapsed false
   },
   outputs [
    {
     name stdout,
     output_type stream,
     text [
      3918n,
      0.458163265306n,
      3918n,
      0.510204081633n,
      3918n,
      0.508163265306n,
      3919n,
      0.539325842697n,
      3919n,
      0.544433094995n
     ]
    },
    {
     data {
      textplain [
       0.512057909987284
      ]
     },
     execution_count 389,
     metadata {},
     output_type execute_result
    }
   ],
   source [
    reg = linear_model.Ridge (alpha = 0.1)n,
    (kappa,z) = kfoldValidation(ww,reg,5)n,
    z
   ]
  },
  {
   cell_type code,
   execution_count 385,
   metadata {
    collapsed false
   },
   outputs [
    {
     name stdout,
     output_type stream,
     text [
      1279n,
      0.59375n,
      1279n,
      0.525n,
      1279n,
      0.5875n,
      1279n,
      0.55n,
      1280n,
      0.658307210031n
     ]
    },
    {
     data {
      textplain [
       0.5829114420062695
      ]
     },
     execution_count 385,
     metadata {},
     output_type execute_result
    }
   ],
   source [
    reg = linear_model.Lasso(alpha = 0.01)n,
    (kappa,z) = kfoldValidation(rw,reg,5)n,
    z
   ]
  },
  {
   cell_type code,
   execution_count 392,
   metadata {
    collapsed false
   },
   outputs [
    {
     name stdout,
     output_type stream,
     text [
      3918n,
      0.442857142857n,
      3918n,
      0.518367346939n,
      3918n,
      0.5n,
      3919n,
      0.5291113381n,
      3919n,
      0.533197139939n
     ]
    },
    {
     data {
      textplain [
       0.5047065935669467
      ]
     },
     execution_count 392,
     metadata {},
     output_type execute_result
    }
   ],
   source [
    reg = linear_model.Lasso(alpha = 0.01)n,
    (kappa,z) = kfoldValidation(ww,reg,5)n,
    z
   ]
  },
  {
   cell_type code,
   execution_count 390,
   metadata {
    collapsed false
   },
   outputs [
    {
     name stdout,
     output_type stream,
     text [
      3918n,
      0.412244897959n,
      3918n,
      0.442857142857n,
      3918n,
      0.394897959184n,
      3919n,
      0.465781409602n,
      3919n,
      0.52808988764n
     ]
    },
    {
     data {
      textplain [
       0.44877425944841676
      ]
     },
     execution_count 390,
     metadata {},
     output_type execute_result
    }
   ],
   source [
    reg = linear_model.LassoLars(alpha=.2)n,
    (kappa,z) = kfoldValidation(ww,reg,5)n,
    z
   ]
  },
  {
   cell_type code,
   execution_count 394,
   metadata {
    collapsed false
   },
   outputs [
    {
     name stdout,
     output_type stream,
     text [
      1279n,
      0.55625n,
      1279n,
      0.55625n,
      1279n,
      0.6n,
      1279n,
      0.559375n,
      1280n,
      0.655172413793n
     ]
    },
    {
     data {
      textplain [
       0.5854094827586206
      ]
     },
     execution_count 394,
     metadata {},
     output_type execute_result
    }
   ],
   source [
    reg = linear_model.BayesianRidge()n,
    (kappa,z) = kfoldValidation(rw,reg,5)n,
    z
   ]
  },
  {
   cell_type code,
   execution_count 396,
   metadata {
    collapsed false
   },
   outputs [
    {
     name stdout,
     output_type stream,
     text [
      3918n,
      0.459183673469n,
      3918n,
      0.516326530612n,
      3918n,
      0.50612244898n,
      3919n,
      0.538304392237n,
      3919n,
      0.542390194076n
     ]
    },
    {
     data {
      textplain [
       0.5124654478747577
      ]
     },
     execution_count 396,
     metadata {},
     output_type execute_result
    }
   ],
   source [
    reg = linear_model.BayesianRidge()n,
    (kappa,z) = kfoldValidation(ww,reg,5)n,
    z
   ]
  },
  {
   cell_type code,
   execution_count 406,
   metadata {
    collapsed false
   },
   outputs [
    {
     name stdout,
     output_type stream,
     text [
      3918n,
      0.397959183673n,
      3918n,
      0.395918367347n,
      3918n,
      0.420408163265n,
      3919n,
      0.418794688458n,
      3919n,
      0.482124616956n
     ]
    },
    {
     data {
      textplain [
       0.4230410039398803
      ]
     },
     execution_count 406,
     metadata {},
     output_type execute_result
    }
   ],
   source [
    nbrs = neighbors.KNeighborsClassifier(35)n,
    (kappa,z) = kfoldValidation(ww,nbrs,5)n,
    z
   ]
  },
  {
   cell_type code,
   execution_count 407,
   metadata {
    collapsed false
   },
   outputs [
    {
     name stdout,
     output_type stream,
     text [
      1279n,
      0.596875n,
      1279n,
      0.46875n,
      1279n,
      0.48125n,
      1279n,
      0.39375n,
      1280n,
      0.514106583072n
     ]
    },
    {
     data {
      textplain [
       0.4909463166144201
      ]
     },
     execution_count 407,
     metadata {},
     output_type execute_result
    }
   ],
   source [
    nbrs = neighbors.KNeighborsClassifier(35)n,
    (kappa,z) = kfoldValidation(rw,nbrs,5)n,
    z
   ]
  },
  {
   cell_type code,
   execution_count 409,
   metadata {
    collapsed false
   },
   outputs [
    {
     name stdout,
     output_type stream,
     text [
      1279n,
      0.490625n,
      1279n,
      0.465625n,
      1279n,
      0.4125n,
      1279n,
      0.409375n,
      1280n,
      0.485893416928n
     ]
    },
    {
     data {
      textplain [
       0.45280368338557986
      ]
     },
     execution_count 409,
     metadata {},
     output_type execute_result
    }
   ],
   source [
    clf = DecisionTreeClassifier(random_state=0)n,
    (kappa,z) = kfoldValidation(rw,clf,5)n,
    z
   ]
  },
  {
   cell_type code,
   execution_count 410,
   metadata {
    collapsed false
   },
   outputs [
    {
     name stdout,
     output_type stream,
     text [
      3918n,
      0.376530612245n,
      3918n,
      0.358163265306n,
      3918n,
      0.432653061224n,
      3919n,
      0.395301327886n,
      3919n,
      0.390194075587n
     ]
    },
    {
     data {
      textplain [
       0.3905684684496883
      ]
     },
     execution_count 410,
     metadata {},
     output_type execute_result
    }
   ],
   source [
    clf = DecisionTreeClassifier(random_state=0)n,
    (kappa,z) = kfoldValidation(ww,clf,5)n,
    z
   ]
  },
  {
   cell_type code,
   execution_count 412,
   metadata {
    collapsed true
   },
   outputs [],
   source [
    def tradaboost(df1,df2,learner)n,
        w1 = 1float(len(df1))n,
        w2 = 1float(len(df2))n,
        b = 1(1+sqrt(wlog(len(df1))(len(df1)+len(df2))))n,
        for t in range(1,n)n,
            p = n,
        returnn,
        
   ]
  },
  {
   cell_type code,
   execution_count 8,
   metadata {
    collapsed false
   },
   outputs [
    {
     data {
      imagepng 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,
      textplain [
       matplotlib.figure.Figure at 0x11527f910
      ]
     },
     metadata {},
     output_type display_data
    }
   ],
   source [
    svr_linear = SVR(kernel='linear')n,
    y_linear = svr_linear.fit(x, y).predict(x)n,
    plt.scatter(y, y_linear, color='#ffcc00',lw=lw, label='RBF model')n,
    plt.show()
   ]
  },
  {
   cell_type code,
   execution_count 66,
   metadata {
    collapsed false
   },
   outputs [
    {
     data {
      textplain [
       (1279, 12)
      ]
     },
     execution_count 66,
     metadata {},
     output_type execute_result
    }
   ],
   source [
    kappa = compute(y,y_rbf)n,
    trainset = rw.sample(frac=0.8, replace=True)n,
    trainindex = trainset.index.tolist()n,
    #trainindexn,
    select = map(lambda x not x in trainindex,rw.index)n,
    #(142 in trainindex)n,
    rw[select].shapen,
    trainset.shape
   ]
  },
  {
   cell_type code,
   execution_count 21,
   metadata {
    collapsed false
   },
   outputs [
    {
     data {
      texthtml [
       divn,
       table border=1 class=dataframen,
         theadn,
           tr style=text-align right;n,
             ththn,
             th3thn,
             th4thn,
             th5thn,
             th6thn,
             th7thn,
             th8thn,
           trn,
         theadn,
         tbodyn,
           trn,
             th3thn,
             td5tdn,
             td2tdn,
             td3tdn,
             td0tdn,
             td0tdn,
             td0tdn,
           trn,
           trn,
             th4thn,
             td0tdn,
             td33tdn,
             td19tdn,
             td1tdn,
             td0tdn,
             td0tdn,
           trn,
           trn,
             th5thn,
             td0tdn,
             td0tdn,
             td655tdn,
             td25tdn,
             td1tdn,
             td0tdn,
           trn,
           trn,
             th6thn,
             td0tdn,
             td0tdn,
             td26tdn,
             td607tdn,
             td5tdn,
             td0tdn,
           trn,
           trn,
             th7thn,
             td0tdn,
             td0tdn,
             td1tdn,
             td19tdn,
             td179tdn,
             td0tdn,
           trn,
           trn,
             th8thn,
             td0tdn,
             td0tdn,
             td0tdn,
             td4tdn,
             td5tdn,
             td9tdn,
           trn,
         tbodyn,
       tablen,
       div
      ],
      textplain [
          3   4    5    6    7  8n,
       3  5   2    3    0    0  0n,
       4  0  33   19    1    0  0n,
       5  0   0  655   25    1  0n,
       6  0   0   26  607    5  0n,
       7  0   0    1   19  179  0n,
       8  0   0    0    4    5  9
      ]
     },
     execution_count 21,
     metadata {},
     output_type execute_result
    }
   ],
   source [
    df
   ]
  },
  {
   cell_type code,
   execution_count null,
   metadata {
    collapsed true
   },
   outputs [],
   source []
  }
 ],
 metadata {
  anaconda-cloud {},
  kernelspec {
   display_name Python [conda root],
   language python,
   name conda-root-py
  },
  language_info {
   codemirror_mode {
    name ipython,
    version 2
   },
   file_extension .py,
   mimetype textx-python,
   name python,
   nbconvert_exporter python,
   pygments_lexer ipython2,
   version 2.7.12
  }
 },
 nbformat 4,
 nbformat_minor 1
}