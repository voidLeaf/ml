{
 "cells": [
  {
   "cell_type": "code",
   "execution_count": 78,
   "metadata": {
    "collapsed": false
   },
   "outputs": [],
   "source": [
    "import pandas as pd\n",
    "import numpy as np\n",
    "from sklearn.svm import SVR\n",
    "import matplotlib.pyplot as plt\n",
    "from sklearn.cross_validation import cross_val_score\n",
    "from sklearn.cross_validation import cross_val_predict\n",
    "from sklearn.cross_validation import KFold\n",
    "from sklearn.discriminant_analysis import LinearDiscriminantAnalysis\n",
    "from sklearn import linear_model\n",
    "from sklearn import neighbors, datasets\n",
    "from sklearn.tree import DecisionTreeClassifier\n",
    "from sklearn.tree import DecisionTreeRegressor\n",
    "from sklearn.ensemble import AdaBoostRegressor\n",
    "from sklearn.ensemble import AdaBoostClassifier\n",
    "from sklearn.ensemble import GradientBoostingRegressor\n",
    "from sklearn.ensemble import RandomForestClassifier\n",
    "from sklearn.ensemble import GradientBoostingClassifier\n",
    "from sklearn import svm\n",
    "from sklearn.decomposition import PCA\n",
    "from sklearn.cross_validation  import StratifiedKFold\n",
    "from sklearn import metrics\n",
    "import seaborn as sb"
   ]
  },
  {
   "cell_type": "code",
   "execution_count": 2,
   "metadata": {
    "collapsed": false
   },
   "outputs": [],
   "source": [
    "rw = pd.read_csv('winequality-red.csv',sep=';')\n",
    "ww = pd.read_csv('winequality-white.csv',sep=';')"
   ]
  },
  {
   "cell_type": "code",
   "execution_count": 4,
   "metadata": {
    "collapsed": false
   },
   "outputs": [],
   "source": [
    "y = rw.iloc[:,-1]\n",
    "x = rw.iloc[:,0:-1]"
   ]
  },
  {
   "cell_type": "code",
   "execution_count": 5,
   "metadata": {
    "collapsed": false
   },
   "outputs": [
    {
     "name": "stdout",
     "output_type": "stream",
     "text": [
      "[ 0.94657698]\n"
     ]
    },
    {
     "data": {
      "text/plain": [
       "array([[ 13.22490501],\n",
       "       [-22.03772361],\n",
       "       [ -7.16267333],\n",
       "       ..., \n",
       "       [  3.43135351],\n",
       "       [ -1.13287834],\n",
       "       [  3.8743766 ]])"
      ]
     },
     "execution_count": 5,
     "metadata": {},
     "output_type": "execute_result"
    }
   ],
   "source": [
    "pca = PCA(n_components=1)\n",
    "pca.fit(x)\n",
    "print(pca.explained_variance_ratio_) \n",
    "pca.get_covariance()\n",
    "pca.transform(x)"
   ]
  },
  {
   "cell_type": "code",
   "execution_count": 9,
   "metadata": {
    "collapsed": true
   },
   "outputs": [],
   "source": [
    "def compute(y,y1):\n",
    "    z=0\n",
    "    m = np.zeros((13,13), dtype=np.int)\n",
    "    for i in range(len(y)):\n",
    "        class1 = int(y[i])\n",
    "        class2 = int(round(y1[i]))\n",
    "        m[class1,class2]+=1\n",
    "        #z+=abs(y1[i]-y[i])\n",
    "        if(class1==class2):\n",
    "            z+=1\n",
    "    df = pd.DataFrame(m[3:9,3:9], index=list('345678'), columns=list('345678'))\n",
    "    z=float(z)/(len(y))\n",
    "    return (df,z)\n",
    "            \n",
    "        \n"
   ]
  },
  {
   "cell_type": "code",
   "execution_count": 6,
   "metadata": {
    "collapsed": false
   },
   "outputs": [
    {
     "data": {
      "text/plain": [
       "0.4171357098186366"
      ]
     },
     "execution_count": 6,
     "metadata": {},
     "output_type": "execute_result"
    }
   ],
   "source": [
    "lw = 2\n",
    "svr_rbf = SVR(kernel='rbf',epsilon=0.1,C=100)\n",
    "y_rbf = cross_val_score(svr_rbf, x, y, cv=5)\n",
    "y_rbf\n",
    "#plt.scatter(y, y_rbf, color='#0099cc',lw=lw, label='RBF model')\n",
    "#plt.show()\n",
    "y_rbf = cross_val_predict(svr_rbf, x, y, cv=5)\n",
    "#metrics.accuracy_score(y, predicted) \n",
    "#plt.scatter(y, y_rbf, color='#0099cc',lw=lw, label='RBF model')\n",
    "#plt.show()\n",
    "(kappa,acc)=compute(y,y_rbf)\n",
    "kappa\n",
    "acc"
   ]
  },
  {
   "cell_type": "code",
   "execution_count": 29,
   "metadata": {
    "collapsed": false
   },
   "outputs": [],
   "source": [
    "def kfoldValidation(df,model,split):\n",
    "    kfs = []\n",
    "    for i in range(split):\n",
    "        kfs.append([[],[]])\n",
    "    for i in range(3,9):\n",
    "        dfi = df[df.quality == i]\n",
    "        kf = KFold(len(dfi),n_folds = split)\n",
    "        j=0\n",
    "        \n",
    "        for train_index, test_index in kf:\n",
    "            kfs[j][0].extend(dfi.iloc[train_index,:].index.tolist())\n",
    "            kfs[j][1].extend(dfi.iloc[test_index,:].index.tolist())\n",
    "            j=j+1\n",
    "\n",
    "    #kf = KFold(len(df),n_folds = split)\n",
    "    z=0\n",
    "    y_test = []\n",
    "    y_clf = []\n",
    "    for i in range(split):\n",
    "        #print train_index\n",
    "        \n",
    "        train_index = kfs[i][0]\n",
    "        test_index = kfs[i][1]\n",
    "        trainset = df[map(lambda x:x in train_index, df.index)]\n",
    "        testset = df[map(lambda x:x in test_index, df.index)]\n",
    "        trainx = trainset.iloc[:,0:-1]\n",
    "        trainy = trainset.iloc[:,-1]\n",
    "        testx = testset.iloc[:,0:-1]\n",
    "        testy = testset.iloc[:,-1].tolist()\n",
    "        y_rbf= model.fit(trainx, trainy).predict(testx)\n",
    "        #print y_rbf\n",
    "        y_test.extend(testy)\n",
    "        y_clf.extend(y_rbf)\n",
    "        (kappa,k) = compute(testy,y_rbf)\n",
    "        z =z+k\n",
    "        print k\n",
    "    print z/split\n",
    "    return compute(y_test,y_clf)\n",
    "        "
   ]
  },
  {
   "cell_type": "code",
   "execution_count": 74,
   "metadata": {
    "collapsed": true
   },
   "outputs": [],
   "source": [
    "def kfoldValidationMulti(df,models,split):\n",
    "    kfs = []\n",
    "    for i in range(split):\n",
    "        kfs.append([[],[]])\n",
    "    for i in range(3,9):\n",
    "        dfi = df[df.quality == i]\n",
    "        kf = KFold(len(dfi),n_folds = split)\n",
    "        j=0\n",
    "        \n",
    "        for train_index, test_index in kf:\n",
    "            kfs[j][0].extend(dfi.iloc[train_index,:].index.tolist())\n",
    "            kfs[j][1].extend(dfi.iloc[test_index,:].index.tolist())\n",
    "            j=j+1\n",
    "\n",
    "    #kf = KFold(len(df),n_folds = split)\n",
    "    z=0\n",
    "    y_test = []\n",
    "    y_clf = []\n",
    "    for i in range(split):\n",
    "        #print train_index\n",
    "        \n",
    "        train_index = kfs[i][0]\n",
    "        test_index = kfs[i][1]\n",
    "        trainset = df[map(lambda x:x in train_index, df.index)]\n",
    "        testset = df[map(lambda x:x in test_index, df.index)]\n",
    "        trainx = trainset.iloc[:,0:-1]\n",
    "        trainy = trainset.iloc[:,-1]\n",
    "        testx = testset.iloc[:,0:-1]\n",
    "        testy = testset.iloc[:,-1].tolist()\n",
    "        y_fit = np.zeros(len(testy))\n",
    "        weights_all = {3:0,4:0,5:0,6:0,7:0,8:0}\n",
    "        for j in range(len(models)):\n",
    "            weights = models[j]['weights']\n",
    "            for c in weights_all:\n",
    "                weights_all[c]+=weights[c]\n",
    "        for j in range(len(models)):\n",
    "            model = models[j]['model']\n",
    "            weights = models[j]['weights']\n",
    "            y_fiti = model.fit(trainx, trainy).predict(testx)\n",
    "            y_fit= y_fit + np.array(map(lambda x: weights[int(round(x))]*round(x)/weights_all[int(round(x))],y_fiti))\n",
    "        #y_fit = map(lambda x: x,y_fit)\n",
    "        #print y_rbf\n",
    "        y_test.extend(testy)\n",
    "        y_clf.extend(y_fit)\n",
    "        (kappa,k) = compute(testy,y_fit)\n",
    "        z =z+k\n",
    "        print k\n",
    "    print z/split\n",
    "    return compute(y_test,y_clf)\n",
    "        "
   ]
  },
  {
   "cell_type": "code",
   "execution_count": 141,
   "metadata": {
    "collapsed": true
   },
   "outputs": [],
   "source": [
    "def multiTest(models,trainset,testset):\n",
    "    trainx = trainset.iloc[:,0:-1]\n",
    "    trainy = trainset.iloc[:,-1]\n",
    "    testx = testset.iloc[:,0:-1]\n",
    "    testy = testset.iloc[:,-1]\n",
    "    y_fit = np.zeros(len(testy))\n",
    "    weights_all = {3:0,4:0,5:0,6:0,7:0,8:0}\n",
    "    for j in range(len(models)):\n",
    "            weights = models[j]['weights']\n",
    "            for c in weights_all:\n",
    "                weights_all[c]+=weights[c]\n",
    "    for j in range(len(models)):\n",
    "            model = models[j]['model']\n",
    "            weights = models[j]['weights']\n",
    "            y_fiti = model.fit(trainx, trainy).predict(testx)\n",
    "            y_fit= y_fit + np.array(map(lambda x: weights[int(round(x))]*round(x)/weights_all[int(round(x))],y_fiti))\n",
    "    return compute(testy.tolist(),y_fit.tolist())"
   ]
  },
  {
   "cell_type": "code",
   "execution_count": 100,
   "metadata": {
    "collapsed": true
   },
   "outputs": [],
   "source": [
    "def getWeights(kappas):\n",
    "    weights = [{}]*len(kappas)\n",
    "    for i,kappa in enumerate(kappas):\n",
    "        for j in range(3,9):\n",
    "            s = (kappa.loc[:,str(j)]).sum()\n",
    "            if(s==0):\n",
    "                weights[i][j] = 0.01\n",
    "            else:\n",
    "                weights[i][j] = float(kappa.loc[str(j),str(j)])/s\n",
    "                if(weights[i][j]==0):\n",
    "                    weights[i][j]=0.1\n",
    "    print weights\n",
    "    return weights\n",
    "            "
   ]
  },
  {
   "cell_type": "code",
   "execution_count": 112,
   "metadata": {
    "collapsed": false
   },
   "outputs": [
    {
     "data": {
      "text/plain": [
       "1439"
      ]
     },
     "execution_count": 112,
     "metadata": {},
     "output_type": "execute_result"
    }
   ],
   "source": [
    "lda = LinearDiscriminantAnalysis(n_components=6)\n",
    "reg = linear_model.Ridge (alpha = 0.01)\n",
    "rfc = RandomForestClassifier(n_estimators=100)\n",
    "\n"
   ]
  },
  {
   "cell_type": "code",
   "execution_count": 149,
   "metadata": {
    "collapsed": false
   },
   "outputs": [
    {
     "name": "stdout",
     "output_type": "stream",
     "text": [
      "0.560137457045\n",
      "0.622837370242\n",
      "0.581881533101\n",
      "0.595818815331\n",
      "0.575438596491\n",
      "0.587222754442\n",
      "z1:0.587213\n",
      "0.570446735395\n",
      "0.608996539792\n",
      "0.578397212544\n",
      "0.585365853659\n",
      "0.557894736842\n",
      "0.580220215646\n",
      "z1:0.580264\n",
      "0.676975945017\n",
      "0.712802768166\n",
      "0.675958188153\n",
      "0.696864111498\n",
      "0.694736842105\n",
      "0.691467570988\n",
      "z3:0.691452\n",
      "[{3: 0.1, 4: 0.1, 5: 0.73652694610778446, 6: 0.65325077399380804, 7: 0.67500000000000004, 8: 0.1}, {3: 0.1, 4: 0.1, 5: 0.73652694610778446, 6: 0.65325077399380804, 7: 0.67500000000000004, 8: 0.1}, {3: 0.1, 4: 0.1, 5: 0.73652694610778446, 6: 0.65325077399380804, 7: 0.67500000000000004, 8: 0.1}]\n",
      "0.6\n",
      "0.575\n",
      "0.675\n"
     ]
    }
   ],
   "source": [
    "rw_train = rw.sample(frac=0.9)\n",
    "rw_test = rw[map(lambda x: not x in (rw_train.index),rw.index)]\n",
    "lda = LinearDiscriminantAnalysis(n_components=6)\n",
    "reg = linear_model.Ridge (alpha = 0.01)\n",
    "rfc = RandomForestClassifier(n_estimators=100)\n",
    "\n",
    "(kappa1,z1) = kfoldValidation(rw_train,lda,5)\n",
    "print (\"z1:%f\")%z1\n",
    "(kappa2,z2) = kfoldValidation(rw_train,reg,5)\n",
    "print (\"z1:%f\")%z2\n",
    "(kappa3,z3) = kfoldValidation(rw_train,rfc,5)\n",
    "print (\"z3:%f\")%z3\n",
    "weights = getWeights([kappa1,kappa2,kappa3])\n",
    "model1={'model':lda,'weights':weights[0]}\n",
    "model2={'model':reg,'weights':weights[1]}\n",
    "model3={'model':rfc,'weights':weights[2]}\n",
    "models = [model1,model2,model3]\n",
    "(kappa,z) = multiTest(models,rw_train,rw_test)\n",
    "(kappa2,z2) = multiTest([model1],rw_train,rw_test)\n",
    "(kappa3,z3) = multiTest([model3],rw_train,rw_test)\n",
    "print z\n",
    "print z2\n",
    "print z3"
   ]
  },
  {
   "cell_type": "code",
   "execution_count": 151,
   "metadata": {
    "collapsed": false
   },
   "outputs": [
    {
     "name": "stdout",
     "output_type": "stream",
     "text": [
      "0.535673839185\n",
      "0.52208380521\n",
      "0.529545454545\n",
      "0.546075085324\n",
      "0.518223234624\n",
      "0.530320283778\n",
      "z1:0.530320\n",
      "0.52208380521\n",
      "0.507361268403\n",
      "0.521590909091\n",
      "0.525597269625\n",
      "0.519362186788\n",
      "0.519199087823\n",
      "z1:0.519191\n",
      "0.679501698754\n",
      "0.647791619479\n",
      "0.686363636364\n",
      "0.678043230944\n",
      "0.676537585421\n",
      "0.673647554193\n",
      "z3:0.673632\n",
      "[{3: 0.01, 4: 0.75, 5: 0.70096463022508038, 6: 0.64554374488961574, 7: 0.7051070840197694, 8: 0.86363636363636365}, {3: 0.01, 4: 0.75, 5: 0.70096463022508038, 6: 0.64554374488961574, 7: 0.7051070840197694, 8: 0.86363636363636365}, {3: 0.01, 4: 0.75, 5: 0.70096463022508038, 6: 0.64554374488961574, 7: 0.7051070840197694, 8: 0.86363636363636365}]\n",
      "0.6\n",
      "0.518367346939\n",
      "0.683673469388\n"
     ]
    }
   ],
   "source": [
    "ww_train = ww.sample(frac=0.9)\n",
    "ww_test = ww[map(lambda x: not x in (ww_train.index),ww.index)]\n",
    "lda = LinearDiscriminantAnalysis(n_components=6)\n",
    "reg = linear_model.Ridge (alpha = 0.01)\n",
    "rfc = RandomForestClassifier(n_estimators=100)\n",
    "(kappa1,z1) = kfoldValidation(ww_train,lda,5)\n",
    "print (\"z1:%f\")%z1\n",
    "(kappa2,z2) = kfoldValidation(ww_train,reg,5)\n",
    "print (\"z1:%f\")%z2\n",
    "(kappa3,z3) = kfoldValidation(ww_train,rfc,5)\n",
    "print (\"z3:%f\")%z3\n",
    "weights = getWeights([kappa1,kappa2,kappa3])\n",
    "model1={'model':lda,'weights':weights[0]}\n",
    "model2={'model':reg,'weights':weights[1]}\n",
    "model3={'model':rfc,'weights':weights[2]}\n",
    "models = [model1,model2,model3]\n",
    "(kappa,z) = multiTest(models,rw_train,rw_test)\n",
    "(kappa2,z2) = multiTest([model1],ww_train,ww_test)\n",
    "(kappa3,z3) = multiTest([model3],ww_train,ww_test)\n",
    "print z\n",
    "print z2\n",
    "print z3"
   ]
  },
  {
   "cell_type": "code",
   "execution_count": 91,
   "metadata": {
    "collapsed": false
   },
   "outputs": [
    {
     "name": "stdout",
     "output_type": "stream",
     "text": [
      "0.456790123457\n",
      "0.534161490683\n",
      "0.503105590062\n",
      "0.5125\n",
      "0.54375\n",
      "0.54375\n",
      "0.5\n",
      "0.46875\n",
      "0.506329113924\n",
      "0.433121019108\n",
      "0.500225733723\n"
     ]
    },
    {
     "data": {
      "text/plain": [
       "647"
      ]
     },
     "execution_count": 91,
     "metadata": {},
     "output_type": "execute_result"
    }
   ],
   "source": [
    "svr_rbf = SVR(kernel='rbf')\n",
    "#help(KFold)\n",
    "(kappa,z)=kfoldValidation(rw,svr_rbf,10)\n",
    "kappa\n",
    "#kappa[0]\n"
   ]
  },
  {
   "cell_type": "code",
   "execution_count": 30,
   "metadata": {
    "collapsed": false
   },
   "outputs": [
    {
     "name": "stdout",
     "output_type": "stream",
     "text": [
      "0.417515274949\n",
      "0.498981670061\n",
      "0.478615071283\n",
      "0.448979591837\n",
      "0.485714285714\n",
      "0.466257668712\n",
      "0.482617586912\n",
      "0.502049180328\n",
      "0.533880903491\n",
      "0.445585215606\n",
      "0.476019644889\n"
     ]
    },
    {
     "data": {
      "text/html": [
       "<div>\n",
       "<table border=\"1\" class=\"dataframe\">\n",
       "  <thead>\n",
       "    <tr style=\"text-align: right;\">\n",
       "      <th></th>\n",
       "      <th>3</th>\n",
       "      <th>4</th>\n",
       "      <th>5</th>\n",
       "      <th>6</th>\n",
       "      <th>7</th>\n",
       "      <th>8</th>\n",
       "    </tr>\n",
       "  </thead>\n",
       "  <tbody>\n",
       "    <tr>\n",
       "      <th>3</th>\n",
       "      <td>0</td>\n",
       "      <td>2</td>\n",
       "      <td>11</td>\n",
       "      <td>7</td>\n",
       "      <td>0</td>\n",
       "      <td>0</td>\n",
       "    </tr>\n",
       "    <tr>\n",
       "      <th>4</th>\n",
       "      <td>0</td>\n",
       "      <td>18</td>\n",
       "      <td>77</td>\n",
       "      <td>62</td>\n",
       "      <td>6</td>\n",
       "      <td>0</td>\n",
       "    </tr>\n",
       "    <tr>\n",
       "      <th>5</th>\n",
       "      <td>0</td>\n",
       "      <td>20</td>\n",
       "      <td>680</td>\n",
       "      <td>692</td>\n",
       "      <td>65</td>\n",
       "      <td>0</td>\n",
       "    </tr>\n",
       "    <tr>\n",
       "      <th>6</th>\n",
       "      <td>2</td>\n",
       "      <td>16</td>\n",
       "      <td>511</td>\n",
       "      <td>1362</td>\n",
       "      <td>302</td>\n",
       "      <td>5</td>\n",
       "    </tr>\n",
       "    <tr>\n",
       "      <th>7</th>\n",
       "      <td>0</td>\n",
       "      <td>4</td>\n",
       "      <td>71</td>\n",
       "      <td>531</td>\n",
       "      <td>268</td>\n",
       "      <td>6</td>\n",
       "    </tr>\n",
       "    <tr>\n",
       "      <th>8</th>\n",
       "      <td>0</td>\n",
       "      <td>0</td>\n",
       "      <td>9</td>\n",
       "      <td>79</td>\n",
       "      <td>86</td>\n",
       "      <td>1</td>\n",
       "    </tr>\n",
       "  </tbody>\n",
       "</table>\n",
       "</div>"
      ],
      "text/plain": [
       "   3   4    5     6    7  8\n",
       "3  0   2   11     7    0  0\n",
       "4  0  18   77    62    6  0\n",
       "5  0  20  680   692   65  0\n",
       "6  2  16  511  1362  302  5\n",
       "7  0   4   71   531  268  6\n",
       "8  0   0    9    79   86  1"
      ]
     },
     "execution_count": 30,
     "metadata": {},
     "output_type": "execute_result"
    }
   ],
   "source": [
    "svr_rbf = SVR(kernel='rbf',epsilon=0.01,C=6,gamma=0.01)\n",
    "#help(KFold)\n",
    "(kappa,z)=kfoldValidation(ww,svr_rbf,10)\n",
    "kappa\n",
    "#kappa[0]"
   ]
  },
  {
   "cell_type": "code",
   "execution_count": null,
   "metadata": {
    "collapsed": true
   },
   "outputs": [],
   "source": []
  },
  {
   "cell_type": "code",
   "execution_count": 156,
   "metadata": {
    "collapsed": false,
    "scrolled": true
   },
   "outputs": [
    {
     "name": "stdout",
     "output_type": "stream",
     "text": [
      "0.476530612245\n",
      "0.498979591837\n",
      "0.563840653728\n",
      "0.515864892528\n",
      "0.503582395087\n",
      "0.511759629085\n",
      "0.511751481709\n"
     ]
    },
    {
     "data": {
      "text/html": [
       "<div>\n",
       "<table border=\"1\" class=\"dataframe\">\n",
       "  <thead>\n",
       "    <tr style=\"text-align: right;\">\n",
       "      <th></th>\n",
       "      <th>3</th>\n",
       "      <th>4</th>\n",
       "      <th>5</th>\n",
       "      <th>6</th>\n",
       "      <th>7</th>\n",
       "      <th>8</th>\n",
       "    </tr>\n",
       "  </thead>\n",
       "  <tbody>\n",
       "    <tr>\n",
       "      <th>3</th>\n",
       "      <td>1</td>\n",
       "      <td>2</td>\n",
       "      <td>4</td>\n",
       "      <td>12</td>\n",
       "      <td>0</td>\n",
       "      <td>1</td>\n",
       "    </tr>\n",
       "    <tr>\n",
       "      <th>4</th>\n",
       "      <td>2</td>\n",
       "      <td>36</td>\n",
       "      <td>65</td>\n",
       "      <td>59</td>\n",
       "      <td>1</td>\n",
       "      <td>0</td>\n",
       "    </tr>\n",
       "    <tr>\n",
       "      <th>5</th>\n",
       "      <td>3</td>\n",
       "      <td>49</td>\n",
       "      <td>704</td>\n",
       "      <td>682</td>\n",
       "      <td>18</td>\n",
       "      <td>1</td>\n",
       "    </tr>\n",
       "    <tr>\n",
       "      <th>6</th>\n",
       "      <td>4</td>\n",
       "      <td>17</td>\n",
       "      <td>429</td>\n",
       "      <td>1510</td>\n",
       "      <td>238</td>\n",
       "      <td>0</td>\n",
       "    </tr>\n",
       "    <tr>\n",
       "      <th>7</th>\n",
       "      <td>0</td>\n",
       "      <td>0</td>\n",
       "      <td>46</td>\n",
       "      <td>581</td>\n",
       "      <td>253</td>\n",
       "      <td>0</td>\n",
       "    </tr>\n",
       "    <tr>\n",
       "      <th>8</th>\n",
       "      <td>0</td>\n",
       "      <td>2</td>\n",
       "      <td>2</td>\n",
       "      <td>104</td>\n",
       "      <td>67</td>\n",
       "      <td>0</td>\n",
       "    </tr>\n",
       "  </tbody>\n",
       "</table>\n",
       "</div>"
      ],
      "text/plain": [
       "   3   4    5     6    7  8\n",
       "3  1   2    4    12    0  1\n",
       "4  2  36   65    59    1  0\n",
       "5  3  49  704   682   18  1\n",
       "6  4  17  429  1510  238  0\n",
       "7  0   0   46   581  253  0\n",
       "8  0   2    2   104   67  0"
      ]
     },
     "execution_count": 156,
     "metadata": {},
     "output_type": "execute_result"
    }
   ],
   "source": [
    "lda = LinearDiscriminantAnalysis(n_components=6)\n",
    "reg = linear_model.Ridge (alpha = 0.01)\n",
    "(kappa,z) =kfoldValidation(ww,lda,5)\n",
    "print z\n",
    "kappa"
   ]
  },
  {
   "cell_type": "code",
   "execution_count": 158,
   "metadata": {
    "collapsed": false
   },
   "outputs": [
    {
     "name": "stdout",
     "output_type": "stream",
     "text": [
      "0.560137457045\n",
      "0.622837370242\n",
      "0.581881533101\n",
      "0.595818815331\n",
      "0.575438596491\n",
      "0.587222754442\n"
     ]
    },
    {
     "data": {
      "text/html": [
       "<div>\n",
       "<table border=\"1\" class=\"dataframe\">\n",
       "  <thead>\n",
       "    <tr style=\"text-align: right;\">\n",
       "      <th></th>\n",
       "      <th>3</th>\n",
       "      <th>4</th>\n",
       "      <th>5</th>\n",
       "      <th>6</th>\n",
       "      <th>7</th>\n",
       "      <th>8</th>\n",
       "    </tr>\n",
       "  </thead>\n",
       "  <tbody>\n",
       "    <tr>\n",
       "      <th>3</th>\n",
       "      <td>2</td>\n",
       "      <td>0</td>\n",
       "      <td>6</td>\n",
       "      <td>1</td>\n",
       "      <td>0</td>\n",
       "      <td>0</td>\n",
       "    </tr>\n",
       "    <tr>\n",
       "      <th>4</th>\n",
       "      <td>3</td>\n",
       "      <td>2</td>\n",
       "      <td>27</td>\n",
       "      <td>18</td>\n",
       "      <td>2</td>\n",
       "      <td>0</td>\n",
       "    </tr>\n",
       "    <tr>\n",
       "      <th>5</th>\n",
       "      <td>6</td>\n",
       "      <td>4</td>\n",
       "      <td>449</td>\n",
       "      <td>146</td>\n",
       "      <td>7</td>\n",
       "      <td>0</td>\n",
       "    </tr>\n",
       "    <tr>\n",
       "      <th>6</th>\n",
       "      <td>1</td>\n",
       "      <td>3</td>\n",
       "      <td>189</td>\n",
       "      <td>327</td>\n",
       "      <td>53</td>\n",
       "      <td>6</td>\n",
       "    </tr>\n",
       "    <tr>\n",
       "      <th>7</th>\n",
       "      <td>0</td>\n",
       "      <td>0</td>\n",
       "      <td>10</td>\n",
       "      <td>95</td>\n",
       "      <td>65</td>\n",
       "      <td>1</td>\n",
       "    </tr>\n",
       "    <tr>\n",
       "      <th>8</th>\n",
       "      <td>0</td>\n",
       "      <td>0</td>\n",
       "      <td>0</td>\n",
       "      <td>8</td>\n",
       "      <td>8</td>\n",
       "      <td>0</td>\n",
       "    </tr>\n",
       "  </tbody>\n",
       "</table>\n",
       "</div>"
      ],
      "text/plain": [
       "   3  4    5    6   7  8\n",
       "3  2  0    6    1   0  0\n",
       "4  3  2   27   18   2  0\n",
       "5  6  4  449  146   7  0\n",
       "6  1  3  189  327  53  6\n",
       "7  0  0   10   95  65  1\n",
       "8  0  0    0    8   8  0"
      ]
     },
     "execution_count": 158,
     "metadata": {},
     "output_type": "execute_result"
    }
   ],
   "source": [
    " lda = LinearDiscriminantAnalysis(n_components=6,solver='svd')\n",
    "(kappa,z) =kfoldValidation(rw_train,lda,5)\n",
    "kappa"
   ]
  },
  {
   "cell_type": "code",
   "execution_count": 415,
   "metadata": {
    "collapsed": false
   },
   "outputs": [
    {
     "name": "stdout",
     "output_type": "stream",
     "text": [
      "Help on class LinearDiscriminantAnalysis in module sklearn.discriminant_analysis:\n",
      "\n",
      "class LinearDiscriminantAnalysis(sklearn.base.BaseEstimator, sklearn.linear_model.base.LinearClassifierMixin, sklearn.base.TransformerMixin)\n",
      " |  Linear Discriminant Analysis\n",
      " |  \n",
      " |  A classifier with a linear decision boundary, generated by fitting class\n",
      " |  conditional densities to the data and using Bayes' rule.\n",
      " |  \n",
      " |  The model fits a Gaussian density to each class, assuming that all classes\n",
      " |  share the same covariance matrix.\n",
      " |  \n",
      " |  The fitted model can also be used to reduce the dimensionality of the input\n",
      " |  by projecting it to the most discriminative directions.\n",
      " |  \n",
      " |  .. versionadded:: 0.17\n",
      " |     *LinearDiscriminantAnalysis*.\n",
      " |  \n",
      " |  .. versionchanged:: 0.17\n",
      " |     Deprecated :class:`lda.LDA` have been moved to *LinearDiscriminantAnalysis*.\n",
      " |  \n",
      " |  Parameters\n",
      " |  ----------\n",
      " |  solver : string, optional\n",
      " |      Solver to use, possible values:\n",
      " |        - 'svd': Singular value decomposition (default). Does not compute the\n",
      " |              covariance matrix, therefore this solver is recommended for\n",
      " |              data with a large number of features.\n",
      " |        - 'lsqr': Least squares solution, can be combined with shrinkage.\n",
      " |        - 'eigen': Eigenvalue decomposition, can be combined with shrinkage.\n",
      " |  \n",
      " |  shrinkage : string or float, optional\n",
      " |      Shrinkage parameter, possible values:\n",
      " |        - None: no shrinkage (default).\n",
      " |        - 'auto': automatic shrinkage using the Ledoit-Wolf lemma.\n",
      " |        - float between 0 and 1: fixed shrinkage parameter.\n",
      " |  \n",
      " |      Note that shrinkage works only with 'lsqr' and 'eigen' solvers.\n",
      " |  \n",
      " |  priors : array, optional, shape (n_classes,)\n",
      " |      Class priors.\n",
      " |  \n",
      " |  n_components : int, optional\n",
      " |      Number of components (< n_classes - 1) for dimensionality reduction.\n",
      " |  \n",
      " |  store_covariance : bool, optional\n",
      " |      Additionally compute class covariance matrix (default False).\n",
      " |  \n",
      " |      .. versionadded:: 0.17\n",
      " |  \n",
      " |  tol : float, optional\n",
      " |      Threshold used for rank estimation in SVD solver.\n",
      " |  \n",
      " |      .. versionadded:: 0.17\n",
      " |  \n",
      " |  Attributes\n",
      " |  ----------\n",
      " |  coef_ : array, shape (n_features,) or (n_classes, n_features)\n",
      " |      Weight vector(s).\n",
      " |  \n",
      " |  intercept_ : array, shape (n_features,)\n",
      " |      Intercept term.\n",
      " |  \n",
      " |  covariance_ : array-like, shape (n_features, n_features)\n",
      " |      Covariance matrix (shared by all classes).\n",
      " |  \n",
      " |  explained_variance_ratio_ : array, shape (n_components,)\n",
      " |      Percentage of variance explained by each of the selected components.\n",
      " |      If ``n_components`` is not set then all components are stored and the\n",
      " |      sum of explained variances is equal to 1.0. Only available when eigen\n",
      " |      solver is used.\n",
      " |  \n",
      " |  means_ : array-like, shape (n_classes, n_features)\n",
      " |      Class means.\n",
      " |  \n",
      " |  priors_ : array-like, shape (n_classes,)\n",
      " |      Class priors (sum to 1).\n",
      " |  \n",
      " |  scalings_ : array-like, shape (rank, n_classes - 1)\n",
      " |      Scaling of the features in the space spanned by the class centroids.\n",
      " |  \n",
      " |  xbar_ : array-like, shape (n_features,)\n",
      " |      Overall mean.\n",
      " |  \n",
      " |  classes_ : array-like, shape (n_classes,)\n",
      " |      Unique class labels.\n",
      " |  \n",
      " |  See also\n",
      " |  --------\n",
      " |  sklearn.discriminant_analysis.QuadraticDiscriminantAnalysis: Quadratic\n",
      " |      Discriminant Analysis\n",
      " |  \n",
      " |  Notes\n",
      " |  -----\n",
      " |  The default solver is 'svd'. It can perform both classification and\n",
      " |  transform, and it does not rely on the calculation of the covariance\n",
      " |  matrix. This can be an advantage in situations where the number of features\n",
      " |  is large. However, the 'svd' solver cannot be used with shrinkage.\n",
      " |  \n",
      " |  The 'lsqr' solver is an efficient algorithm that only works for\n",
      " |  classification. It supports shrinkage.\n",
      " |  \n",
      " |  The 'eigen' solver is based on the optimization of the between class\n",
      " |  scatter to within class scatter ratio. It can be used for both\n",
      " |  classification and transform, and it supports shrinkage. However, the\n",
      " |  'eigen' solver needs to compute the covariance matrix, so it might not be\n",
      " |  suitable for situations with a high number of features.\n",
      " |  \n",
      " |  Examples\n",
      " |  --------\n",
      " |  >>> import numpy as np\n",
      " |  >>> from sklearn.discriminant_analysis import LinearDiscriminantAnalysis\n",
      " |  >>> X = np.array([[-1, -1], [-2, -1], [-3, -2], [1, 1], [2, 1], [3, 2]])\n",
      " |  >>> y = np.array([1, 1, 1, 2, 2, 2])\n",
      " |  >>> clf = LinearDiscriminantAnalysis()\n",
      " |  >>> clf.fit(X, y)\n",
      " |  LinearDiscriminantAnalysis(n_components=None, priors=None, shrinkage=None,\n",
      " |                solver='svd', store_covariance=False, tol=0.0001)\n",
      " |  >>> print(clf.predict([[-0.8, -1]]))\n",
      " |  [1]\n",
      " |  \n",
      " |  Method resolution order:\n",
      " |      LinearDiscriminantAnalysis\n",
      " |      sklearn.base.BaseEstimator\n",
      " |      sklearn.linear_model.base.LinearClassifierMixin\n",
      " |      sklearn.base.ClassifierMixin\n",
      " |      sklearn.base.TransformerMixin\n",
      " |      __builtin__.object\n",
      " |  \n",
      " |  Methods defined here:\n",
      " |  \n",
      " |  __init__(self, solver='svd', shrinkage=None, priors=None, n_components=None, store_covariance=False, tol=0.0001)\n",
      " |  \n",
      " |  fit(self, X, y, store_covariance=None, tol=None)\n",
      " |      Fit LinearDiscriminantAnalysis model according to the given\n",
      " |         training data and parameters.\n",
      " |      \n",
      " |         .. versionchanged:: 0.17\n",
      " |            Deprecated *store_covariance* have been moved to main constructor.\n",
      " |      \n",
      " |         .. versionchanged:: 0.17\n",
      " |            Deprecated *tol* have been moved to main constructor.\n",
      " |      \n",
      " |      Parameters\n",
      " |      ----------\n",
      " |      X : array-like, shape (n_samples, n_features)\n",
      " |          Training data.\n",
      " |      \n",
      " |      y : array, shape (n_samples,)\n",
      " |          Target values.\n",
      " |  \n",
      " |  predict_log_proba(self, X)\n",
      " |      Estimate log probability.\n",
      " |      \n",
      " |      Parameters\n",
      " |      ----------\n",
      " |      X : array-like, shape (n_samples, n_features)\n",
      " |          Input data.\n",
      " |      \n",
      " |      Returns\n",
      " |      -------\n",
      " |      C : array, shape (n_samples, n_classes)\n",
      " |          Estimated log probabilities.\n",
      " |  \n",
      " |  predict_proba(self, X)\n",
      " |      Estimate probability.\n",
      " |      \n",
      " |      Parameters\n",
      " |      ----------\n",
      " |      X : array-like, shape (n_samples, n_features)\n",
      " |          Input data.\n",
      " |      \n",
      " |      Returns\n",
      " |      -------\n",
      " |      C : array, shape (n_samples, n_classes)\n",
      " |          Estimated probabilities.\n",
      " |  \n",
      " |  transform(self, X)\n",
      " |      Project data to maximize class separation.\n",
      " |      \n",
      " |      Parameters\n",
      " |      ----------\n",
      " |      X : array-like, shape (n_samples, n_features)\n",
      " |          Input data.\n",
      " |      \n",
      " |      Returns\n",
      " |      -------\n",
      " |      X_new : array, shape (n_samples, n_components)\n",
      " |          Transformed data.\n",
      " |  \n",
      " |  ----------------------------------------------------------------------\n",
      " |  Methods inherited from sklearn.base.BaseEstimator:\n",
      " |  \n",
      " |  __repr__(self)\n",
      " |  \n",
      " |  get_params(self, deep=True)\n",
      " |      Get parameters for this estimator.\n",
      " |      \n",
      " |      Parameters\n",
      " |      ----------\n",
      " |      deep: boolean, optional\n",
      " |          If True, will return the parameters for this estimator and\n",
      " |          contained subobjects that are estimators.\n",
      " |      \n",
      " |      Returns\n",
      " |      -------\n",
      " |      params : mapping of string to any\n",
      " |          Parameter names mapped to their values.\n",
      " |  \n",
      " |  set_params(self, **params)\n",
      " |      Set the parameters of this estimator.\n",
      " |      \n",
      " |      The method works on simple estimators as well as on nested objects\n",
      " |      (such as pipelines). The former have parameters of the form\n",
      " |      ``<component>__<parameter>`` so that it's possible to update each\n",
      " |      component of a nested object.\n",
      " |      \n",
      " |      Returns\n",
      " |      -------\n",
      " |      self\n",
      " |  \n",
      " |  ----------------------------------------------------------------------\n",
      " |  Data descriptors inherited from sklearn.base.BaseEstimator:\n",
      " |  \n",
      " |  __dict__\n",
      " |      dictionary for instance variables (if defined)\n",
      " |  \n",
      " |  __weakref__\n",
      " |      list of weak references to the object (if defined)\n",
      " |  \n",
      " |  ----------------------------------------------------------------------\n",
      " |  Methods inherited from sklearn.linear_model.base.LinearClassifierMixin:\n",
      " |  \n",
      " |  decision_function(self, X)\n",
      " |      Predict confidence scores for samples.\n",
      " |      \n",
      " |      The confidence score for a sample is the signed distance of that\n",
      " |      sample to the hyperplane.\n",
      " |      \n",
      " |      Parameters\n",
      " |      ----------\n",
      " |      X : {array-like, sparse matrix}, shape = (n_samples, n_features)\n",
      " |          Samples.\n",
      " |      \n",
      " |      Returns\n",
      " |      -------\n",
      " |      array, shape=(n_samples,) if n_classes == 2 else (n_samples, n_classes)\n",
      " |          Confidence scores per (sample, class) combination. In the binary\n",
      " |          case, confidence score for self.classes_[1] where >0 means this\n",
      " |          class would be predicted.\n",
      " |  \n",
      " |  predict(self, X)\n",
      " |      Predict class labels for samples in X.\n",
      " |      \n",
      " |      Parameters\n",
      " |      ----------\n",
      " |      X : {array-like, sparse matrix}, shape = [n_samples, n_features]\n",
      " |          Samples.\n",
      " |      \n",
      " |      Returns\n",
      " |      -------\n",
      " |      C : array, shape = [n_samples]\n",
      " |          Predicted class label per sample.\n",
      " |  \n",
      " |  ----------------------------------------------------------------------\n",
      " |  Methods inherited from sklearn.base.ClassifierMixin:\n",
      " |  \n",
      " |  score(self, X, y, sample_weight=None)\n",
      " |      Returns the mean accuracy on the given test data and labels.\n",
      " |      \n",
      " |      In multi-label classification, this is the subset accuracy\n",
      " |      which is a harsh metric since you require for each sample that\n",
      " |      each label set be correctly predicted.\n",
      " |      \n",
      " |      Parameters\n",
      " |      ----------\n",
      " |      X : array-like, shape = (n_samples, n_features)\n",
      " |          Test samples.\n",
      " |      \n",
      " |      y : array-like, shape = (n_samples) or (n_samples, n_outputs)\n",
      " |          True labels for X.\n",
      " |      \n",
      " |      sample_weight : array-like, shape = [n_samples], optional\n",
      " |          Sample weights.\n",
      " |      \n",
      " |      Returns\n",
      " |      -------\n",
      " |      score : float\n",
      " |          Mean accuracy of self.predict(X) wrt. y.\n",
      " |  \n",
      " |  ----------------------------------------------------------------------\n",
      " |  Methods inherited from sklearn.base.TransformerMixin:\n",
      " |  \n",
      " |  fit_transform(self, X, y=None, **fit_params)\n",
      " |      Fit to data, then transform it.\n",
      " |      \n",
      " |      Fits transformer to X and y with optional parameters fit_params\n",
      " |      and returns a transformed version of X.\n",
      " |      \n",
      " |      Parameters\n",
      " |      ----------\n",
      " |      X : numpy array of shape [n_samples, n_features]\n",
      " |          Training set.\n",
      " |      \n",
      " |      y : numpy array of shape [n_samples]\n",
      " |          Target values.\n",
      " |      \n",
      " |      Returns\n",
      " |      -------\n",
      " |      X_new : numpy array of shape [n_samples, n_features_new]\n",
      " |          Transformed array.\n",
      "\n"
     ]
    }
   ],
   "source": [
    "help(LinearDiscriminantAnalysis)"
   ]
  },
  {
   "cell_type": "code",
   "execution_count": 32,
   "metadata": {
    "collapsed": false
   },
   "outputs": [
    {
     "name": "stdout",
     "output_type": "stream",
     "text": [
      "0.481481481481\n",
      "0.583850931677\n",
      "0.565217391304\n",
      "0.575\n",
      "0.54375\n",
      "0.7\n",
      "0.61875\n",
      "0.55625\n",
      "0.664556962025\n",
      "0.59872611465\n",
      "0.588758288114\n"
     ]
    },
    {
     "data": {
      "text/html": [
       "<div>\n",
       "<table border=\"1\" class=\"dataframe\">\n",
       "  <thead>\n",
       "    <tr style=\"text-align: right;\">\n",
       "      <th></th>\n",
       "      <th>3</th>\n",
       "      <th>4</th>\n",
       "      <th>5</th>\n",
       "      <th>6</th>\n",
       "      <th>7</th>\n",
       "      <th>8</th>\n",
       "    </tr>\n",
       "  </thead>\n",
       "  <tbody>\n",
       "    <tr>\n",
       "      <th>3</th>\n",
       "      <td>0</td>\n",
       "      <td>1</td>\n",
       "      <td>8</td>\n",
       "      <td>1</td>\n",
       "      <td>0</td>\n",
       "      <td>0</td>\n",
       "    </tr>\n",
       "    <tr>\n",
       "      <th>4</th>\n",
       "      <td>0</td>\n",
       "      <td>1</td>\n",
       "      <td>33</td>\n",
       "      <td>19</td>\n",
       "      <td>0</td>\n",
       "      <td>0</td>\n",
       "    </tr>\n",
       "    <tr>\n",
       "      <th>5</th>\n",
       "      <td>0</td>\n",
       "      <td>3</td>\n",
       "      <td>475</td>\n",
       "      <td>199</td>\n",
       "      <td>4</td>\n",
       "      <td>0</td>\n",
       "    </tr>\n",
       "    <tr>\n",
       "      <th>6</th>\n",
       "      <td>0</td>\n",
       "      <td>0</td>\n",
       "      <td>185</td>\n",
       "      <td>427</td>\n",
       "      <td>26</td>\n",
       "      <td>0</td>\n",
       "    </tr>\n",
       "    <tr>\n",
       "      <th>7</th>\n",
       "      <td>0</td>\n",
       "      <td>0</td>\n",
       "      <td>9</td>\n",
       "      <td>152</td>\n",
       "      <td>38</td>\n",
       "      <td>0</td>\n",
       "    </tr>\n",
       "    <tr>\n",
       "      <th>8</th>\n",
       "      <td>0</td>\n",
       "      <td>0</td>\n",
       "      <td>0</td>\n",
       "      <td>12</td>\n",
       "      <td>6</td>\n",
       "      <td>0</td>\n",
       "    </tr>\n",
       "  </tbody>\n",
       "</table>\n",
       "</div>"
      ],
      "text/plain": [
       "   3  4    5    6   7  8\n",
       "3  0  1    8    1   0  0\n",
       "4  0  1   33   19   0  0\n",
       "5  0  3  475  199   4  0\n",
       "6  0  0  185  427  26  0\n",
       "7  0  0    9  152  38  0\n",
       "8  0  0    0   12   6  0"
      ]
     },
     "execution_count": 32,
     "metadata": {},
     "output_type": "execute_result"
    }
   ],
   "source": [
    "reg = linear_model.Ridge (alpha = 0.01)\n",
    "(kappa,z) = kfoldValidation(rw,reg,10)\n",
    "kappa"
   ]
  },
  {
   "cell_type": "code",
   "execution_count": 33,
   "metadata": {
    "collapsed": false,
    "scrolled": true
   },
   "outputs": [
    {
     "name": "stdout",
     "output_type": "stream",
     "text": [
      "0.423625254582\n",
      "0.529531568228\n",
      "0.505091649695\n",
      "0.512244897959\n",
      "0.508163265306\n",
      "0.572597137014\n",
      "0.521472392638\n",
      "0.543032786885\n",
      "0.533880903491\n",
      "0.482546201232\n",
      "0.513218605703\n"
     ]
    },
    {
     "data": {
      "text/html": [
       "<div>\n",
       "<table border=\"1\" class=\"dataframe\">\n",
       "  <thead>\n",
       "    <tr style=\"text-align: right;\">\n",
       "      <th></th>\n",
       "      <th>3</th>\n",
       "      <th>4</th>\n",
       "      <th>5</th>\n",
       "      <th>6</th>\n",
       "      <th>7</th>\n",
       "      <th>8</th>\n",
       "    </tr>\n",
       "  </thead>\n",
       "  <tbody>\n",
       "    <tr>\n",
       "      <th>3</th>\n",
       "      <td>0</td>\n",
       "      <td>1</td>\n",
       "      <td>6</td>\n",
       "      <td>12</td>\n",
       "      <td>1</td>\n",
       "      <td>0</td>\n",
       "    </tr>\n",
       "    <tr>\n",
       "      <th>4</th>\n",
       "      <td>0</td>\n",
       "      <td>4</td>\n",
       "      <td>84</td>\n",
       "      <td>74</td>\n",
       "      <td>1</td>\n",
       "      <td>0</td>\n",
       "    </tr>\n",
       "    <tr>\n",
       "      <th>5</th>\n",
       "      <td>0</td>\n",
       "      <td>7</td>\n",
       "      <td>589</td>\n",
       "      <td>847</td>\n",
       "      <td>14</td>\n",
       "      <td>0</td>\n",
       "    </tr>\n",
       "    <tr>\n",
       "      <th>6</th>\n",
       "      <td>0</td>\n",
       "      <td>0</td>\n",
       "      <td>294</td>\n",
       "      <td>1724</td>\n",
       "      <td>180</td>\n",
       "      <td>0</td>\n",
       "    </tr>\n",
       "    <tr>\n",
       "      <th>7</th>\n",
       "      <td>0</td>\n",
       "      <td>0</td>\n",
       "      <td>26</td>\n",
       "      <td>660</td>\n",
       "      <td>194</td>\n",
       "      <td>0</td>\n",
       "    </tr>\n",
       "    <tr>\n",
       "      <th>8</th>\n",
       "      <td>0</td>\n",
       "      <td>0</td>\n",
       "      <td>2</td>\n",
       "      <td>112</td>\n",
       "      <td>61</td>\n",
       "      <td>0</td>\n",
       "    </tr>\n",
       "  </tbody>\n",
       "</table>\n",
       "</div>"
      ],
      "text/plain": [
       "   3  4    5     6    7  8\n",
       "3  0  1    6    12    1  0\n",
       "4  0  4   84    74    1  0\n",
       "5  0  7  589   847   14  0\n",
       "6  0  0  294  1724  180  0\n",
       "7  0  0   26   660  194  0\n",
       "8  0  0    2   112   61  0"
      ]
     },
     "execution_count": 33,
     "metadata": {},
     "output_type": "execute_result"
    }
   ],
   "source": [
    "reg = linear_model.Ridge (alpha = 0.1)\n",
    "(kappa,z) = kfoldValidation(ww,reg,10)\n",
    "kappa"
   ]
  },
  {
   "cell_type": "code",
   "execution_count": 27,
   "metadata": {
    "collapsed": false
   },
   "outputs": [
    {
     "name": "stdout",
     "output_type": "stream",
     "text": [
      "0.462962962963\n",
      "0.571428571429\n",
      "0.453416149068\n",
      "0.49375\n",
      "0.4625\n",
      "0.46875\n",
      "0.475\n",
      "0.45\n",
      "0.449367088608\n",
      "0.477707006369\n",
      "0.476488177844\n"
     ]
    },
    {
     "data": {
      "text/html": [
       "<div>\n",
       "<table border=\"1\" class=\"dataframe\">\n",
       "  <thead>\n",
       "    <tr style=\"text-align: right;\">\n",
       "      <th></th>\n",
       "      <th>3</th>\n",
       "      <th>4</th>\n",
       "      <th>5</th>\n",
       "      <th>6</th>\n",
       "      <th>7</th>\n",
       "      <th>8</th>\n",
       "    </tr>\n",
       "  </thead>\n",
       "  <tbody>\n",
       "    <tr>\n",
       "      <th>3</th>\n",
       "      <td>0</td>\n",
       "      <td>0</td>\n",
       "      <td>0</td>\n",
       "      <td>10</td>\n",
       "      <td>0</td>\n",
       "      <td>0</td>\n",
       "    </tr>\n",
       "    <tr>\n",
       "      <th>4</th>\n",
       "      <td>0</td>\n",
       "      <td>0</td>\n",
       "      <td>5</td>\n",
       "      <td>48</td>\n",
       "      <td>0</td>\n",
       "      <td>0</td>\n",
       "    </tr>\n",
       "    <tr>\n",
       "      <th>5</th>\n",
       "      <td>0</td>\n",
       "      <td>0</td>\n",
       "      <td>184</td>\n",
       "      <td>497</td>\n",
       "      <td>0</td>\n",
       "      <td>0</td>\n",
       "    </tr>\n",
       "    <tr>\n",
       "      <th>6</th>\n",
       "      <td>0</td>\n",
       "      <td>0</td>\n",
       "      <td>60</td>\n",
       "      <td>578</td>\n",
       "      <td>0</td>\n",
       "      <td>0</td>\n",
       "    </tr>\n",
       "    <tr>\n",
       "      <th>7</th>\n",
       "      <td>0</td>\n",
       "      <td>2</td>\n",
       "      <td>16</td>\n",
       "      <td>181</td>\n",
       "      <td>0</td>\n",
       "      <td>0</td>\n",
       "    </tr>\n",
       "    <tr>\n",
       "      <th>8</th>\n",
       "      <td>0</td>\n",
       "      <td>0</td>\n",
       "      <td>2</td>\n",
       "      <td>16</td>\n",
       "      <td>0</td>\n",
       "      <td>0</td>\n",
       "    </tr>\n",
       "  </tbody>\n",
       "</table>\n",
       "</div>"
      ],
      "text/plain": [
       "   3  4    5    6  7  8\n",
       "3  0  0    0   10  0  0\n",
       "4  0  0    5   48  0  0\n",
       "5  0  0  184  497  0  0\n",
       "6  0  0   60  578  0  0\n",
       "7  0  2   16  181  0  0\n",
       "8  0  0    2   16  0  0"
      ]
     },
     "execution_count": 27,
     "metadata": {},
     "output_type": "execute_result"
    }
   ],
   "source": [
    "reg = linear_model.Lasso(alpha = 0.01)\n",
    "(kappa,z) = kfoldValidation(rw,reg,10)\n",
    "kappa"
   ]
  },
  {
   "cell_type": "code",
   "execution_count": 28,
   "metadata": {
    "collapsed": false
   },
   "outputs": [
    {
     "name": "stdout",
     "output_type": "stream",
     "text": [
      "0.454175152749\n",
      "0.450101832994\n",
      "0.456211812627\n",
      "0.438775510204\n",
      "0.45306122449\n",
      "0.451942740286\n",
      "0.449897750511\n",
      "0.450819672131\n",
      "0.449691991786\n",
      "0.449691991786\n",
      "0.450436967957\n"
     ]
    },
    {
     "data": {
      "text/html": [
       "<div>\n",
       "<table border=\"1\" class=\"dataframe\">\n",
       "  <thead>\n",
       "    <tr style=\"text-align: right;\">\n",
       "      <th></th>\n",
       "      <th>3</th>\n",
       "      <th>4</th>\n",
       "      <th>5</th>\n",
       "      <th>6</th>\n",
       "      <th>7</th>\n",
       "      <th>8</th>\n",
       "    </tr>\n",
       "  </thead>\n",
       "  <tbody>\n",
       "    <tr>\n",
       "      <th>3</th>\n",
       "      <td>0</td>\n",
       "      <td>0</td>\n",
       "      <td>3</td>\n",
       "      <td>17</td>\n",
       "      <td>0</td>\n",
       "      <td>0</td>\n",
       "    </tr>\n",
       "    <tr>\n",
       "      <th>4</th>\n",
       "      <td>0</td>\n",
       "      <td>0</td>\n",
       "      <td>2</td>\n",
       "      <td>161</td>\n",
       "      <td>0</td>\n",
       "      <td>0</td>\n",
       "    </tr>\n",
       "    <tr>\n",
       "      <th>5</th>\n",
       "      <td>0</td>\n",
       "      <td>0</td>\n",
       "      <td>16</td>\n",
       "      <td>1441</td>\n",
       "      <td>0</td>\n",
       "      <td>0</td>\n",
       "    </tr>\n",
       "    <tr>\n",
       "      <th>6</th>\n",
       "      <td>0</td>\n",
       "      <td>0</td>\n",
       "      <td>10</td>\n",
       "      <td>2188</td>\n",
       "      <td>0</td>\n",
       "      <td>0</td>\n",
       "    </tr>\n",
       "    <tr>\n",
       "      <th>7</th>\n",
       "      <td>0</td>\n",
       "      <td>0</td>\n",
       "      <td>0</td>\n",
       "      <td>880</td>\n",
       "      <td>0</td>\n",
       "      <td>0</td>\n",
       "    </tr>\n",
       "    <tr>\n",
       "      <th>8</th>\n",
       "      <td>0</td>\n",
       "      <td>0</td>\n",
       "      <td>0</td>\n",
       "      <td>175</td>\n",
       "      <td>0</td>\n",
       "      <td>0</td>\n",
       "    </tr>\n",
       "  </tbody>\n",
       "</table>\n",
       "</div>"
      ],
      "text/plain": [
       "   3  4   5     6  7  8\n",
       "3  0  0   3    17  0  0\n",
       "4  0  0   2   161  0  0\n",
       "5  0  0  16  1441  0  0\n",
       "6  0  0  10  2188  0  0\n",
       "7  0  0   0   880  0  0\n",
       "8  0  0   0   175  0  0"
      ]
     },
     "execution_count": 28,
     "metadata": {},
     "output_type": "execute_result"
    }
   ],
   "source": [
    "reg = linear_model.Lasso(alpha = 0.01)\n",
    "(kappa,z) = kfoldValidation(ww,reg,10)\n",
    "kappa"
   ]
  },
  {
   "cell_type": "code",
   "execution_count": 425,
   "metadata": {
    "collapsed": false
   },
   "outputs": [
    {
     "name": "stdout",
     "output_type": "stream",
     "text": [
      "0.448065173116\n",
      "0.448065173116\n",
      "0.448065173116\n",
      "0.448979591837\n",
      "0.448979591837\n",
      "0.449897750511\n",
      "0.449897750511\n",
      "0.450819672131\n",
      "0.449691991786\n",
      "0.449691991786\n",
      "0.449215385975\n"
     ]
    },
    {
     "data": {
      "text/html": [
       "<div>\n",
       "<table border=\"1\" class=\"dataframe\">\n",
       "  <thead>\n",
       "    <tr style=\"text-align: right;\">\n",
       "      <th></th>\n",
       "      <th>3</th>\n",
       "      <th>4</th>\n",
       "      <th>5</th>\n",
       "      <th>6</th>\n",
       "      <th>7</th>\n",
       "      <th>8</th>\n",
       "    </tr>\n",
       "  </thead>\n",
       "  <tbody>\n",
       "    <tr>\n",
       "      <th>3</th>\n",
       "      <td>0</td>\n",
       "      <td>0</td>\n",
       "      <td>0</td>\n",
       "      <td>20</td>\n",
       "      <td>0</td>\n",
       "      <td>0</td>\n",
       "    </tr>\n",
       "    <tr>\n",
       "      <th>4</th>\n",
       "      <td>0</td>\n",
       "      <td>0</td>\n",
       "      <td>0</td>\n",
       "      <td>163</td>\n",
       "      <td>0</td>\n",
       "      <td>0</td>\n",
       "    </tr>\n",
       "    <tr>\n",
       "      <th>5</th>\n",
       "      <td>0</td>\n",
       "      <td>0</td>\n",
       "      <td>0</td>\n",
       "      <td>1457</td>\n",
       "      <td>0</td>\n",
       "      <td>0</td>\n",
       "    </tr>\n",
       "    <tr>\n",
       "      <th>6</th>\n",
       "      <td>0</td>\n",
       "      <td>0</td>\n",
       "      <td>0</td>\n",
       "      <td>2198</td>\n",
       "      <td>0</td>\n",
       "      <td>0</td>\n",
       "    </tr>\n",
       "    <tr>\n",
       "      <th>7</th>\n",
       "      <td>0</td>\n",
       "      <td>0</td>\n",
       "      <td>0</td>\n",
       "      <td>880</td>\n",
       "      <td>0</td>\n",
       "      <td>0</td>\n",
       "    </tr>\n",
       "    <tr>\n",
       "      <th>8</th>\n",
       "      <td>0</td>\n",
       "      <td>0</td>\n",
       "      <td>0</td>\n",
       "      <td>175</td>\n",
       "      <td>0</td>\n",
       "      <td>0</td>\n",
       "    </tr>\n",
       "  </tbody>\n",
       "</table>\n",
       "</div>"
      ],
      "text/plain": [
       "   3  4  5     6  7  8\n",
       "3  0  0  0    20  0  0\n",
       "4  0  0  0   163  0  0\n",
       "5  0  0  0  1457  0  0\n",
       "6  0  0  0  2198  0  0\n",
       "7  0  0  0   880  0  0\n",
       "8  0  0  0   175  0  0"
      ]
     },
     "execution_count": 425,
     "metadata": {},
     "output_type": "execute_result"
    }
   ],
   "source": [
    "reg = linear_model.LassoLars(alpha=.2)\n",
    "(kappa,z) = kfoldValidation(ww,reg,10)\n",
    "kappa"
   ]
  },
  {
   "cell_type": "code",
   "execution_count": 426,
   "metadata": {
    "collapsed": false
   },
   "outputs": [
    {
     "name": "stdout",
     "output_type": "stream",
     "text": [
      "0.487654320988\n",
      "0.583850931677\n",
      "0.546583850932\n",
      "0.54375\n",
      "0.5375\n",
      "0.69375\n",
      "0.61875\n",
      "0.5375\n",
      "0.664556962025\n",
      "0.611464968153\n",
      "0.582536103377\n"
     ]
    },
    {
     "data": {
      "text/html": [
       "<div>\n",
       "<table border=\"1\" class=\"dataframe\">\n",
       "  <thead>\n",
       "    <tr style=\"text-align: right;\">\n",
       "      <th></th>\n",
       "      <th>3</th>\n",
       "      <th>4</th>\n",
       "      <th>5</th>\n",
       "      <th>6</th>\n",
       "      <th>7</th>\n",
       "      <th>8</th>\n",
       "    </tr>\n",
       "  </thead>\n",
       "  <tbody>\n",
       "    <tr>\n",
       "      <th>3</th>\n",
       "      <td>0</td>\n",
       "      <td>1</td>\n",
       "      <td>8</td>\n",
       "      <td>1</td>\n",
       "      <td>0</td>\n",
       "      <td>0</td>\n",
       "    </tr>\n",
       "    <tr>\n",
       "      <th>4</th>\n",
       "      <td>0</td>\n",
       "      <td>1</td>\n",
       "      <td>32</td>\n",
       "      <td>20</td>\n",
       "      <td>0</td>\n",
       "      <td>0</td>\n",
       "    </tr>\n",
       "    <tr>\n",
       "      <th>5</th>\n",
       "      <td>0</td>\n",
       "      <td>3</td>\n",
       "      <td>471</td>\n",
       "      <td>204</td>\n",
       "      <td>2</td>\n",
       "      <td>1</td>\n",
       "    </tr>\n",
       "    <tr>\n",
       "      <th>6</th>\n",
       "      <td>0</td>\n",
       "      <td>0</td>\n",
       "      <td>186</td>\n",
       "      <td>423</td>\n",
       "      <td>29</td>\n",
       "      <td>0</td>\n",
       "    </tr>\n",
       "    <tr>\n",
       "      <th>7</th>\n",
       "      <td>0</td>\n",
       "      <td>0</td>\n",
       "      <td>9</td>\n",
       "      <td>154</td>\n",
       "      <td>36</td>\n",
       "      <td>0</td>\n",
       "    </tr>\n",
       "    <tr>\n",
       "      <th>8</th>\n",
       "      <td>0</td>\n",
       "      <td>0</td>\n",
       "      <td>0</td>\n",
       "      <td>11</td>\n",
       "      <td>7</td>\n",
       "      <td>0</td>\n",
       "    </tr>\n",
       "  </tbody>\n",
       "</table>\n",
       "</div>"
      ],
      "text/plain": [
       "   3  4    5    6   7  8\n",
       "3  0  1    8    1   0  0\n",
       "4  0  1   32   20   0  0\n",
       "5  0  3  471  204   2  1\n",
       "6  0  0  186  423  29  0\n",
       "7  0  0    9  154  36  0\n",
       "8  0  0    0   11   7  0"
      ]
     },
     "execution_count": 426,
     "metadata": {},
     "output_type": "execute_result"
    }
   ],
   "source": [
    "reg = linear_model.BayesianRidge()\n",
    "(kappa,z) = kfoldValidation(rw,reg,10)\n",
    "kappa"
   ]
  },
  {
   "cell_type": "code",
   "execution_count": 427,
   "metadata": {
    "collapsed": false
   },
   "outputs": [
    {
     "name": "stdout",
     "output_type": "stream",
     "text": [
      "0.421588594705\n",
      "0.525458248473\n",
      "0.50916496945\n",
      "0.514285714286\n",
      "0.508163265306\n",
      "0.574642126789\n",
      "0.523517382413\n",
      "0.530737704918\n",
      "0.533880903491\n",
      "0.482546201232\n",
      "0.512398511106\n"
     ]
    },
    {
     "data": {
      "text/html": [
       "<div>\n",
       "<table border=\"1\" class=\"dataframe\">\n",
       "  <thead>\n",
       "    <tr style=\"text-align: right;\">\n",
       "      <th></th>\n",
       "      <th>3</th>\n",
       "      <th>4</th>\n",
       "      <th>5</th>\n",
       "      <th>6</th>\n",
       "      <th>7</th>\n",
       "      <th>8</th>\n",
       "    </tr>\n",
       "  </thead>\n",
       "  <tbody>\n",
       "    <tr>\n",
       "      <th>3</th>\n",
       "      <td>0</td>\n",
       "      <td>1</td>\n",
       "      <td>6</td>\n",
       "      <td>12</td>\n",
       "      <td>1</td>\n",
       "      <td>0</td>\n",
       "    </tr>\n",
       "    <tr>\n",
       "      <th>4</th>\n",
       "      <td>0</td>\n",
       "      <td>4</td>\n",
       "      <td>84</td>\n",
       "      <td>74</td>\n",
       "      <td>1</td>\n",
       "      <td>0</td>\n",
       "    </tr>\n",
       "    <tr>\n",
       "      <th>5</th>\n",
       "      <td>0</td>\n",
       "      <td>6</td>\n",
       "      <td>589</td>\n",
       "      <td>850</td>\n",
       "      <td>12</td>\n",
       "      <td>0</td>\n",
       "    </tr>\n",
       "    <tr>\n",
       "      <th>6</th>\n",
       "      <td>0</td>\n",
       "      <td>0</td>\n",
       "      <td>296</td>\n",
       "      <td>1723</td>\n",
       "      <td>179</td>\n",
       "      <td>0</td>\n",
       "    </tr>\n",
       "    <tr>\n",
       "      <th>7</th>\n",
       "      <td>0</td>\n",
       "      <td>0</td>\n",
       "      <td>26</td>\n",
       "      <td>663</td>\n",
       "      <td>191</td>\n",
       "      <td>0</td>\n",
       "    </tr>\n",
       "    <tr>\n",
       "      <th>8</th>\n",
       "      <td>0</td>\n",
       "      <td>0</td>\n",
       "      <td>2</td>\n",
       "      <td>111</td>\n",
       "      <td>62</td>\n",
       "      <td>0</td>\n",
       "    </tr>\n",
       "  </tbody>\n",
       "</table>\n",
       "</div>"
      ],
      "text/plain": [
       "   3  4    5     6    7  8\n",
       "3  0  1    6    12    1  0\n",
       "4  0  4   84    74    1  0\n",
       "5  0  6  589   850   12  0\n",
       "6  0  0  296  1723  179  0\n",
       "7  0  0   26   663  191  0\n",
       "8  0  0    2   111   62  0"
      ]
     },
     "execution_count": 427,
     "metadata": {},
     "output_type": "execute_result"
    }
   ],
   "source": [
    "reg = linear_model.BayesianRidge()\n",
    "(kappa,z) = kfoldValidation(ww,reg,10)\n",
    "kappa"
   ]
  },
  {
   "cell_type": "code",
   "execution_count": 428,
   "metadata": {
    "collapsed": false
   },
   "outputs": [
    {
     "name": "stdout",
     "output_type": "stream",
     "text": [
      "0.346232179226\n",
      "0.40733197556\n",
      "0.403258655804\n",
      "0.383673469388\n",
      "0.397959183673\n",
      "0.429447852761\n",
      "0.419222903885\n",
      "0.440573770492\n",
      "0.390143737166\n",
      "0.394250513347\n",
      "0.40120942413\n"
     ]
    },
    {
     "data": {
      "text/html": [
       "<div>\n",
       "<table border=\"1\" class=\"dataframe\">\n",
       "  <thead>\n",
       "    <tr style=\"text-align: right;\">\n",
       "      <th></th>\n",
       "      <th>3</th>\n",
       "      <th>4</th>\n",
       "      <th>5</th>\n",
       "      <th>6</th>\n",
       "      <th>7</th>\n",
       "      <th>8</th>\n",
       "    </tr>\n",
       "  </thead>\n",
       "  <tbody>\n",
       "    <tr>\n",
       "      <th>3</th>\n",
       "      <td>2</td>\n",
       "      <td>4</td>\n",
       "      <td>8</td>\n",
       "      <td>5</td>\n",
       "      <td>1</td>\n",
       "      <td>0</td>\n",
       "    </tr>\n",
       "    <tr>\n",
       "      <th>4</th>\n",
       "      <td>5</td>\n",
       "      <td>14</td>\n",
       "      <td>60</td>\n",
       "      <td>62</td>\n",
       "      <td>20</td>\n",
       "      <td>2</td>\n",
       "    </tr>\n",
       "    <tr>\n",
       "      <th>5</th>\n",
       "      <td>9</td>\n",
       "      <td>63</td>\n",
       "      <td>593</td>\n",
       "      <td>605</td>\n",
       "      <td>168</td>\n",
       "      <td>19</td>\n",
       "    </tr>\n",
       "    <tr>\n",
       "      <th>6</th>\n",
       "      <td>3</td>\n",
       "      <td>56</td>\n",
       "      <td>597</td>\n",
       "      <td>1073</td>\n",
       "      <td>389</td>\n",
       "      <td>80</td>\n",
       "    </tr>\n",
       "    <tr>\n",
       "      <th>7</th>\n",
       "      <td>4</td>\n",
       "      <td>21</td>\n",
       "      <td>151</td>\n",
       "      <td>391</td>\n",
       "      <td>265</td>\n",
       "      <td>48</td>\n",
       "    </tr>\n",
       "    <tr>\n",
       "      <th>8</th>\n",
       "      <td>0</td>\n",
       "      <td>2</td>\n",
       "      <td>25</td>\n",
       "      <td>93</td>\n",
       "      <td>39</td>\n",
       "      <td>16</td>\n",
       "    </tr>\n",
       "  </tbody>\n",
       "</table>\n",
       "</div>"
      ],
      "text/plain": [
       "   3   4    5     6    7   8\n",
       "3  2   4    8     5    1   0\n",
       "4  5  14   60    62   20   2\n",
       "5  9  63  593   605  168  19\n",
       "6  3  56  597  1073  389  80\n",
       "7  4  21  151   391  265  48\n",
       "8  0   2   25    93   39  16"
      ]
     },
     "execution_count": 428,
     "metadata": {},
     "output_type": "execute_result"
    }
   ],
   "source": [
    "nbrs = neighbors.KNeighborsClassifier(1,algorithm='ball_tree',weights='distance')\n",
    "(kappa,z) = kfoldValidation(ww,nbrs,10)\n",
    "kappa"
   ]
  },
  {
   "cell_type": "code",
   "execution_count": 384,
   "metadata": {
    "collapsed": false
   },
   "outputs": [
    {
     "name": "stdout",
     "output_type": "stream",
     "text": [
      "1277\n",
      "322\n",
      "0.531055900621\n",
      "1278\n",
      "321\n",
      "0.532710280374\n",
      "1278\n",
      "321\n",
      "0.485981308411\n",
      "1281\n",
      "318\n",
      "0.443396226415\n",
      "1282\n",
      "317\n",
      "0.488958990536\n",
      "0.496560350219\n"
     ]
    },
    {
     "data": {
      "text/html": [
       "<div>\n",
       "<table border=\"1\" class=\"dataframe\">\n",
       "  <thead>\n",
       "    <tr style=\"text-align: right;\">\n",
       "      <th></th>\n",
       "      <th>3</th>\n",
       "      <th>4</th>\n",
       "      <th>5</th>\n",
       "      <th>6</th>\n",
       "      <th>7</th>\n",
       "      <th>8</th>\n",
       "    </tr>\n",
       "  </thead>\n",
       "  <tbody>\n",
       "    <tr>\n",
       "      <th>3</th>\n",
       "      <td>0</td>\n",
       "      <td>0</td>\n",
       "      <td>8</td>\n",
       "      <td>2</td>\n",
       "      <td>0</td>\n",
       "      <td>0</td>\n",
       "    </tr>\n",
       "    <tr>\n",
       "      <th>4</th>\n",
       "      <td>0</td>\n",
       "      <td>0</td>\n",
       "      <td>32</td>\n",
       "      <td>18</td>\n",
       "      <td>3</td>\n",
       "      <td>0</td>\n",
       "    </tr>\n",
       "    <tr>\n",
       "      <th>5</th>\n",
       "      <td>0</td>\n",
       "      <td>0</td>\n",
       "      <td>443</td>\n",
       "      <td>231</td>\n",
       "      <td>7</td>\n",
       "      <td>0</td>\n",
       "    </tr>\n",
       "    <tr>\n",
       "      <th>6</th>\n",
       "      <td>0</td>\n",
       "      <td>0</td>\n",
       "      <td>286</td>\n",
       "      <td>327</td>\n",
       "      <td>25</td>\n",
       "      <td>0</td>\n",
       "    </tr>\n",
       "    <tr>\n",
       "      <th>7</th>\n",
       "      <td>0</td>\n",
       "      <td>0</td>\n",
       "      <td>55</td>\n",
       "      <td>120</td>\n",
       "      <td>24</td>\n",
       "      <td>0</td>\n",
       "    </tr>\n",
       "    <tr>\n",
       "      <th>8</th>\n",
       "      <td>0</td>\n",
       "      <td>0</td>\n",
       "      <td>6</td>\n",
       "      <td>10</td>\n",
       "      <td>2</td>\n",
       "      <td>0</td>\n",
       "    </tr>\n",
       "  </tbody>\n",
       "</table>\n",
       "</div>"
      ],
      "text/plain": [
       "   3  4    5    6   7  8\n",
       "3  0  0    8    2   0  0\n",
       "4  0  0   32   18   3  0\n",
       "5  0  0  443  231   7  0\n",
       "6  0  0  286  327  25  0\n",
       "7  0  0   55  120  24  0\n",
       "8  0  0    6   10   2  0"
      ]
     },
     "execution_count": 384,
     "metadata": {},
     "output_type": "execute_result"
    }
   ],
   "source": [
    "nbrs = neighbors.KNeighborsClassifier(20)\n",
    "(kappa,z) = kfoldValidation(rw,nbrs,5)\n",
    "print z\n",
    "kappa"
   ]
  },
  {
   "cell_type": "code",
   "execution_count": 429,
   "metadata": {
    "collapsed": false
   },
   "outputs": [
    {
     "name": "stdout",
     "output_type": "stream",
     "text": [
      "0.469135802469\n",
      "0.496894409938\n",
      "0.39751552795\n",
      "0.43125\n",
      "0.475\n",
      "0.45625\n",
      "0.5\n",
      "0.49375\n",
      "0.455696202532\n",
      "0.490445859873\n",
      "0.466593780276\n"
     ]
    },
    {
     "data": {
      "text/html": [
       "<div>\n",
       "<table border=\"1\" class=\"dataframe\">\n",
       "  <thead>\n",
       "    <tr style=\"text-align: right;\">\n",
       "      <th></th>\n",
       "      <th>3</th>\n",
       "      <th>4</th>\n",
       "      <th>5</th>\n",
       "      <th>6</th>\n",
       "      <th>7</th>\n",
       "      <th>8</th>\n",
       "    </tr>\n",
       "  </thead>\n",
       "  <tbody>\n",
       "    <tr>\n",
       "      <th>3</th>\n",
       "      <td>1</td>\n",
       "      <td>3</td>\n",
       "      <td>4</td>\n",
       "      <td>2</td>\n",
       "      <td>0</td>\n",
       "      <td>0</td>\n",
       "    </tr>\n",
       "    <tr>\n",
       "      <th>4</th>\n",
       "      <td>1</td>\n",
       "      <td>5</td>\n",
       "      <td>23</td>\n",
       "      <td>20</td>\n",
       "      <td>4</td>\n",
       "      <td>0</td>\n",
       "    </tr>\n",
       "    <tr>\n",
       "      <th>5</th>\n",
       "      <td>5</td>\n",
       "      <td>43</td>\n",
       "      <td>382</td>\n",
       "      <td>228</td>\n",
       "      <td>20</td>\n",
       "      <td>3</td>\n",
       "    </tr>\n",
       "    <tr>\n",
       "      <th>6</th>\n",
       "      <td>0</td>\n",
       "      <td>19</td>\n",
       "      <td>240</td>\n",
       "      <td>284</td>\n",
       "      <td>89</td>\n",
       "      <td>6</td>\n",
       "    </tr>\n",
       "    <tr>\n",
       "      <th>7</th>\n",
       "      <td>1</td>\n",
       "      <td>4</td>\n",
       "      <td>32</td>\n",
       "      <td>83</td>\n",
       "      <td>74</td>\n",
       "      <td>5</td>\n",
       "    </tr>\n",
       "    <tr>\n",
       "      <th>8</th>\n",
       "      <td>0</td>\n",
       "      <td>0</td>\n",
       "      <td>1</td>\n",
       "      <td>11</td>\n",
       "      <td>6</td>\n",
       "      <td>0</td>\n",
       "    </tr>\n",
       "  </tbody>\n",
       "</table>\n",
       "</div>"
      ],
      "text/plain": [
       "   3   4    5    6   7  8\n",
       "3  1   3    4    2   0  0\n",
       "4  1   5   23   20   4  0\n",
       "5  5  43  382  228  20  3\n",
       "6  0  19  240  284  89  6\n",
       "7  1   4   32   83  74  5\n",
       "8  0   0    1   11   6  0"
      ]
     },
     "execution_count": 429,
     "metadata": {},
     "output_type": "execute_result"
    }
   ],
   "source": [
    "clf = DecisionTreeClassifier(random_state=0)\n",
    "(kappa,z) = kfoldValidation(rw,clf,10)\n",
    "kappa"
   ]
  },
  {
   "cell_type": "code",
   "execution_count": 430,
   "metadata": {
    "collapsed": false
   },
   "outputs": [
    {
     "name": "stdout",
     "output_type": "stream",
     "text": [
      "0.393075356415\n",
      "0.415478615071\n",
      "0.325865580448\n",
      "0.373469387755\n",
      "0.4\n",
      "0.445807770961\n",
      "0.425357873211\n",
      "0.475409836066\n",
      "0.441478439425\n",
      "0.420944558522\n",
      "0.411688741787\n"
     ]
    },
    {
     "data": {
      "text/html": [
       "<div>\n",
       "<table border=\"1\" class=\"dataframe\">\n",
       "  <thead>\n",
       "    <tr style=\"text-align: right;\">\n",
       "      <th></th>\n",
       "      <th>3</th>\n",
       "      <th>4</th>\n",
       "      <th>5</th>\n",
       "      <th>6</th>\n",
       "      <th>7</th>\n",
       "      <th>8</th>\n",
       "    </tr>\n",
       "  </thead>\n",
       "  <tbody>\n",
       "    <tr>\n",
       "      <th>3</th>\n",
       "      <td>0</td>\n",
       "      <td>2</td>\n",
       "      <td>13</td>\n",
       "      <td>1</td>\n",
       "      <td>3</td>\n",
       "      <td>1</td>\n",
       "    </tr>\n",
       "    <tr>\n",
       "      <th>4</th>\n",
       "      <td>5</td>\n",
       "      <td>26</td>\n",
       "      <td>74</td>\n",
       "      <td>47</td>\n",
       "      <td>8</td>\n",
       "      <td>3</td>\n",
       "    </tr>\n",
       "    <tr>\n",
       "      <th>5</th>\n",
       "      <td>16</td>\n",
       "      <td>90</td>\n",
       "      <td>613</td>\n",
       "      <td>597</td>\n",
       "      <td>131</td>\n",
       "      <td>10</td>\n",
       "    </tr>\n",
       "    <tr>\n",
       "      <th>6</th>\n",
       "      <td>7</td>\n",
       "      <td>64</td>\n",
       "      <td>600</td>\n",
       "      <td>1075</td>\n",
       "      <td>381</td>\n",
       "      <td>71</td>\n",
       "    </tr>\n",
       "    <tr>\n",
       "      <th>7</th>\n",
       "      <td>1</td>\n",
       "      <td>5</td>\n",
       "      <td>120</td>\n",
       "      <td>405</td>\n",
       "      <td>277</td>\n",
       "      <td>72</td>\n",
       "    </tr>\n",
       "    <tr>\n",
       "      <th>8</th>\n",
       "      <td>2</td>\n",
       "      <td>4</td>\n",
       "      <td>13</td>\n",
       "      <td>71</td>\n",
       "      <td>62</td>\n",
       "      <td>23</td>\n",
       "    </tr>\n",
       "  </tbody>\n",
       "</table>\n",
       "</div>"
      ],
      "text/plain": [
       "    3   4    5     6    7   8\n",
       "3   0   2   13     1    3   1\n",
       "4   5  26   74    47    8   3\n",
       "5  16  90  613   597  131  10\n",
       "6   7  64  600  1075  381  71\n",
       "7   1   5  120   405  277  72\n",
       "8   2   4   13    71   62  23"
      ]
     },
     "execution_count": 430,
     "metadata": {},
     "output_type": "execute_result"
    }
   ],
   "source": [
    "clf = DecisionTreeClassifier(random_state=0)\n",
    "(kappa,z) = kfoldValidation(ww,clf,10)\n",
    "kappa"
   ]
  },
  {
   "cell_type": "code",
   "execution_count": 412,
   "metadata": {
    "collapsed": true
   },
   "outputs": [],
   "source": [
    "def tradaboost(df1,df2,learner):\n",
    "    w1 = 1/float(len(df1))\n",
    "    w2 = 1/float(len(df2))\n",
    "    b = 1/(1+sqrt(w*log(len(df1))/(len(df1)+len(df2))))\n",
    "    for t in range(1,n):\n",
    "        p = \n",
    "    return\n",
    "    "
   ]
  },
  {
   "cell_type": "code",
   "execution_count": 436,
   "metadata": {
    "collapsed": false
   },
   "outputs": [
    {
     "name": "stdout",
     "output_type": "stream",
     "text": [
      "0.462962962963\n",
      "0.60248447205\n",
      "0.571428571429\n",
      "0.51875\n",
      "0.59375\n",
      "0.54375\n",
      "0.625\n",
      "0.5375\n",
      "0.575949367089\n",
      "0.56050955414\n",
      "0.559208492767\n"
     ]
    },
    {
     "data": {
      "text/html": [
       "<div>\n",
       "<table border=\"1\" class=\"dataframe\">\n",
       "  <thead>\n",
       "    <tr style=\"text-align: right;\">\n",
       "      <th></th>\n",
       "      <th>3</th>\n",
       "      <th>4</th>\n",
       "      <th>5</th>\n",
       "      <th>6</th>\n",
       "      <th>7</th>\n",
       "      <th>8</th>\n",
       "    </tr>\n",
       "  </thead>\n",
       "  <tbody>\n",
       "    <tr>\n",
       "      <th>3</th>\n",
       "      <td>0</td>\n",
       "      <td>2</td>\n",
       "      <td>13</td>\n",
       "      <td>1</td>\n",
       "      <td>3</td>\n",
       "      <td>1</td>\n",
       "    </tr>\n",
       "    <tr>\n",
       "      <th>4</th>\n",
       "      <td>5</td>\n",
       "      <td>26</td>\n",
       "      <td>74</td>\n",
       "      <td>47</td>\n",
       "      <td>8</td>\n",
       "      <td>3</td>\n",
       "    </tr>\n",
       "    <tr>\n",
       "      <th>5</th>\n",
       "      <td>16</td>\n",
       "      <td>90</td>\n",
       "      <td>613</td>\n",
       "      <td>597</td>\n",
       "      <td>131</td>\n",
       "      <td>10</td>\n",
       "    </tr>\n",
       "    <tr>\n",
       "      <th>6</th>\n",
       "      <td>7</td>\n",
       "      <td>64</td>\n",
       "      <td>600</td>\n",
       "      <td>1075</td>\n",
       "      <td>381</td>\n",
       "      <td>71</td>\n",
       "    </tr>\n",
       "    <tr>\n",
       "      <th>7</th>\n",
       "      <td>1</td>\n",
       "      <td>5</td>\n",
       "      <td>120</td>\n",
       "      <td>405</td>\n",
       "      <td>277</td>\n",
       "      <td>72</td>\n",
       "    </tr>\n",
       "    <tr>\n",
       "      <th>8</th>\n",
       "      <td>2</td>\n",
       "      <td>4</td>\n",
       "      <td>13</td>\n",
       "      <td>71</td>\n",
       "      <td>62</td>\n",
       "      <td>23</td>\n",
       "    </tr>\n",
       "  </tbody>\n",
       "</table>\n",
       "</div>"
      ],
      "text/plain": [
       "    3   4    5     6    7   8\n",
       "3   0   2   13     1    3   1\n",
       "4   5  26   74    47    8   3\n",
       "5  16  90  613   597  131  10\n",
       "6   7  64  600  1075  381  71\n",
       "7   1   5  120   405  277  72\n",
       "8   2   4   13    71   62  23"
      ]
     },
     "execution_count": 436,
     "metadata": {},
     "output_type": "execute_result"
    }
   ],
   "source": [
    "regr_1 = DecisionTreeRegressor(max_depth=5)\n",
    "(kappa1,z1) = kfoldValidation(rw,regr_1,10)\n",
    "kappa"
   ]
  },
  {
   "cell_type": "code",
   "execution_count": 492,
   "metadata": {
    "collapsed": false
   },
   "outputs": [
    {
     "name": "stdout",
     "output_type": "stream",
     "text": [
      "0.421588594705\n",
      "0.521384928717\n",
      "0.519348268839\n",
      "0.530612244898\n",
      "0.508163265306\n",
      "0.58282208589\n",
      "0.525562372188\n",
      "0.540983606557\n",
      "0.540041067762\n",
      "0.492813141684\n",
      "0.518331957655\n"
     ]
    },
    {
     "data": {
      "text/html": [
       "<div>\n",
       "<table border=\"1\" class=\"dataframe\">\n",
       "  <thead>\n",
       "    <tr style=\"text-align: right;\">\n",
       "      <th></th>\n",
       "      <th>3</th>\n",
       "      <th>4</th>\n",
       "      <th>5</th>\n",
       "      <th>6</th>\n",
       "      <th>7</th>\n",
       "      <th>8</th>\n",
       "    </tr>\n",
       "  </thead>\n",
       "  <tbody>\n",
       "    <tr>\n",
       "      <th>3</th>\n",
       "      <td>0</td>\n",
       "      <td>2</td>\n",
       "      <td>5</td>\n",
       "      <td>12</td>\n",
       "      <td>1</td>\n",
       "      <td>0</td>\n",
       "    </tr>\n",
       "    <tr>\n",
       "      <th>4</th>\n",
       "      <td>0</td>\n",
       "      <td>5</td>\n",
       "      <td>84</td>\n",
       "      <td>73</td>\n",
       "      <td>1</td>\n",
       "      <td>0</td>\n",
       "    </tr>\n",
       "    <tr>\n",
       "      <th>5</th>\n",
       "      <td>0</td>\n",
       "      <td>7</td>\n",
       "      <td>595</td>\n",
       "      <td>840</td>\n",
       "      <td>15</td>\n",
       "      <td>0</td>\n",
       "    </tr>\n",
       "    <tr>\n",
       "      <th>6</th>\n",
       "      <td>0</td>\n",
       "      <td>0</td>\n",
       "      <td>291</td>\n",
       "      <td>1735</td>\n",
       "      <td>172</td>\n",
       "      <td>0</td>\n",
       "    </tr>\n",
       "    <tr>\n",
       "      <th>7</th>\n",
       "      <td>0</td>\n",
       "      <td>0</td>\n",
       "      <td>30</td>\n",
       "      <td>649</td>\n",
       "      <td>201</td>\n",
       "      <td>0</td>\n",
       "    </tr>\n",
       "    <tr>\n",
       "      <th>8</th>\n",
       "      <td>0</td>\n",
       "      <td>0</td>\n",
       "      <td>3</td>\n",
       "      <td>111</td>\n",
       "      <td>61</td>\n",
       "      <td>0</td>\n",
       "    </tr>\n",
       "  </tbody>\n",
       "</table>\n",
       "</div>"
      ],
      "text/plain": [
       "   3  4    5     6    7  8\n",
       "3  0  2    5    12    1  0\n",
       "4  0  5   84    73    1  0\n",
       "5  0  7  595   840   15  0\n",
       "6  0  0  291  1735  172  0\n",
       "7  0  0   30   649  201  0\n",
       "8  0  0    3   111   61  0"
      ]
     },
     "execution_count": 492,
     "metadata": {},
     "output_type": "execute_result"
    }
   ],
   "source": [
    "regr_2 = AdaBoostRegressor(linear_model.Ridge(alpha = 0.1),\n",
    "                          n_estimators=5,learning_rate=0.1)\n",
    "(kappa2,z2) = kfoldValidation(ww,regr_2,10)\n",
    "z2\n",
    "kappa2"
   ]
  },
  {
   "cell_type": "code",
   "execution_count": 475,
   "metadata": {
    "collapsed": false
   },
   "outputs": [
    {
     "name": "stdout",
     "output_type": "stream",
     "text": [
      "0.549382716049\n",
      "0.546583850932\n",
      "0.540372670807\n",
      "0.4875\n",
      "0.50625\n",
      "0.6\n",
      "0.54375\n",
      "0.575\n",
      "0.575949367089\n",
      "0.503184713376\n",
      "0.542797331825\n",
      "0.542839274547\n"
     ]
    },
    {
     "data": {
      "text/html": [
       "<div>\n",
       "<table border=\"1\" class=\"dataframe\">\n",
       "  <thead>\n",
       "    <tr style=\"text-align: right;\">\n",
       "      <th></th>\n",
       "      <th>3</th>\n",
       "      <th>4</th>\n",
       "      <th>5</th>\n",
       "      <th>6</th>\n",
       "      <th>7</th>\n",
       "      <th>8</th>\n",
       "    </tr>\n",
       "  </thead>\n",
       "  <tbody>\n",
       "    <tr>\n",
       "      <th>3</th>\n",
       "      <td>0</td>\n",
       "      <td>0</td>\n",
       "      <td>7</td>\n",
       "      <td>2</td>\n",
       "      <td>1</td>\n",
       "      <td>0</td>\n",
       "    </tr>\n",
       "    <tr>\n",
       "      <th>4</th>\n",
       "      <td>1</td>\n",
       "      <td>1</td>\n",
       "      <td>31</td>\n",
       "      <td>17</td>\n",
       "      <td>2</td>\n",
       "      <td>1</td>\n",
       "    </tr>\n",
       "    <tr>\n",
       "      <th>5</th>\n",
       "      <td>3</td>\n",
       "      <td>17</td>\n",
       "      <td>446</td>\n",
       "      <td>201</td>\n",
       "      <td>13</td>\n",
       "      <td>1</td>\n",
       "    </tr>\n",
       "    <tr>\n",
       "      <th>6</th>\n",
       "      <td>2</td>\n",
       "      <td>8</td>\n",
       "      <td>214</td>\n",
       "      <td>358</td>\n",
       "      <td>51</td>\n",
       "      <td>5</td>\n",
       "    </tr>\n",
       "    <tr>\n",
       "      <th>7</th>\n",
       "      <td>0</td>\n",
       "      <td>2</td>\n",
       "      <td>15</td>\n",
       "      <td>109</td>\n",
       "      <td>63</td>\n",
       "      <td>10</td>\n",
       "    </tr>\n",
       "    <tr>\n",
       "      <th>8</th>\n",
       "      <td>0</td>\n",
       "      <td>0</td>\n",
       "      <td>0</td>\n",
       "      <td>11</td>\n",
       "      <td>7</td>\n",
       "      <td>0</td>\n",
       "    </tr>\n",
       "  </tbody>\n",
       "</table>\n",
       "</div>"
      ],
      "text/plain": [
       "   3   4    5    6   7   8\n",
       "3  0   0    7    2   1   0\n",
       "4  1   1   31   17   2   1\n",
       "5  3  17  446  201  13   1\n",
       "6  2   8  214  358  51   5\n",
       "7  0   2   15  109  63  10\n",
       "8  0   0    0   11   7   0"
      ]
     },
     "execution_count": 475,
     "metadata": {},
     "output_type": "execute_result"
    }
   ],
   "source": [
    "clf = GradientBoostingClassifier(n_estimators=4, learning_rate=0.3,\n",
    "         max_depth=5)\n",
    "(kappa2,z2) = kfoldValidation(rw,clf,10)\n",
    "print z2\n",
    "kappa2"
   ]
  },
  {
   "cell_type": "code",
   "execution_count": 474,
   "metadata": {
    "collapsed": false
   },
   "outputs": [
    {
     "name": "stdout",
     "output_type": "stream",
     "text": [
      "0.464358452138\n",
      "0.488798370672\n",
      "0.494908350305\n",
      "0.487755102041\n",
      "0.483673469388\n",
      "0.58282208589\n",
      "0.498977505112\n",
      "0.547131147541\n",
      "0.593429158111\n",
      "0.515400410678\n",
      "0.515725405188\n",
      "0.515634580012\n"
     ]
    },
    {
     "data": {
      "text/html": [
       "<div>\n",
       "<table border=\"1\" class=\"dataframe\">\n",
       "  <thead>\n",
       "    <tr style=\"text-align: right;\">\n",
       "      <th></th>\n",
       "      <th>3</th>\n",
       "      <th>4</th>\n",
       "      <th>5</th>\n",
       "      <th>6</th>\n",
       "      <th>7</th>\n",
       "      <th>8</th>\n",
       "    </tr>\n",
       "  </thead>\n",
       "  <tbody>\n",
       "    <tr>\n",
       "      <th>3</th>\n",
       "      <td>0</td>\n",
       "      <td>2</td>\n",
       "      <td>7</td>\n",
       "      <td>10</td>\n",
       "      <td>1</td>\n",
       "      <td>0</td>\n",
       "    </tr>\n",
       "    <tr>\n",
       "      <th>4</th>\n",
       "      <td>3</td>\n",
       "      <td>22</td>\n",
       "      <td>82</td>\n",
       "      <td>54</td>\n",
       "      <td>1</td>\n",
       "      <td>1</td>\n",
       "    </tr>\n",
       "    <tr>\n",
       "      <th>5</th>\n",
       "      <td>5</td>\n",
       "      <td>28</td>\n",
       "      <td>759</td>\n",
       "      <td>639</td>\n",
       "      <td>19</td>\n",
       "      <td>7</td>\n",
       "    </tr>\n",
       "    <tr>\n",
       "      <th>6</th>\n",
       "      <td>1</td>\n",
       "      <td>15</td>\n",
       "      <td>461</td>\n",
       "      <td>1503</td>\n",
       "      <td>201</td>\n",
       "      <td>17</td>\n",
       "    </tr>\n",
       "    <tr>\n",
       "      <th>7</th>\n",
       "      <td>0</td>\n",
       "      <td>2</td>\n",
       "      <td>48</td>\n",
       "      <td>581</td>\n",
       "      <td>231</td>\n",
       "      <td>18</td>\n",
       "    </tr>\n",
       "    <tr>\n",
       "      <th>8</th>\n",
       "      <td>0</td>\n",
       "      <td>3</td>\n",
       "      <td>3</td>\n",
       "      <td>99</td>\n",
       "      <td>62</td>\n",
       "      <td>8</td>\n",
       "    </tr>\n",
       "  </tbody>\n",
       "</table>\n",
       "</div>"
      ],
      "text/plain": [
       "   3   4    5     6    7   8\n",
       "3  0   2    7    10    1   0\n",
       "4  3  22   82    54    1   1\n",
       "5  5  28  759   639   19   7\n",
       "6  1  15  461  1503  201  17\n",
       "7  0   2   48   581  231  18\n",
       "8  0   3    3    99   62   8"
      ]
     },
     "execution_count": 474,
     "metadata": {},
     "output_type": "execute_result"
    }
   ],
   "source": [
    "clf = GradientBoostingClassifier(n_estimators=4, learning_rate=0.3,\n",
    "         max_depth=5)\n",
    "(kappa2,z2) = kfoldValidation(ww,clf,10)\n",
    "print z2\n",
    "kappa2"
   ]
  },
  {
   "cell_type": "code",
   "execution_count": 457,
   "metadata": {
    "collapsed": false
   },
   "outputs": [
    {
     "name": "stdout",
     "output_type": "stream",
     "text": [
      "0.505091649695\n",
      "0.543788187373\n",
      "0.49083503055\n",
      "0.504081632653\n",
      "0.534693877551\n",
      "0.584867075665\n",
      "0.496932515337\n",
      "0.553278688525\n",
      "0.58932238193\n",
      "0.540041067762\n",
      "0.534293210704\n"
     ]
    },
    {
     "data": {
      "text/html": [
       "<div>\n",
       "<table border=\"1\" class=\"dataframe\">\n",
       "  <thead>\n",
       "    <tr style=\"text-align: right;\">\n",
       "      <th></th>\n",
       "      <th>3</th>\n",
       "      <th>4</th>\n",
       "      <th>5</th>\n",
       "      <th>6</th>\n",
       "      <th>7</th>\n",
       "      <th>8</th>\n",
       "    </tr>\n",
       "  </thead>\n",
       "  <tbody>\n",
       "    <tr>\n",
       "      <th>3</th>\n",
       "      <td>0</td>\n",
       "      <td>0</td>\n",
       "      <td>6</td>\n",
       "      <td>14</td>\n",
       "      <td>0</td>\n",
       "      <td>0</td>\n",
       "    </tr>\n",
       "    <tr>\n",
       "      <th>4</th>\n",
       "      <td>0</td>\n",
       "      <td>12</td>\n",
       "      <td>99</td>\n",
       "      <td>51</td>\n",
       "      <td>1</td>\n",
       "      <td>0</td>\n",
       "    </tr>\n",
       "    <tr>\n",
       "      <th>5</th>\n",
       "      <td>0</td>\n",
       "      <td>8</td>\n",
       "      <td>827</td>\n",
       "      <td>602</td>\n",
       "      <td>19</td>\n",
       "      <td>1</td>\n",
       "    </tr>\n",
       "    <tr>\n",
       "      <th>6</th>\n",
       "      <td>0</td>\n",
       "      <td>3</td>\n",
       "      <td>493</td>\n",
       "      <td>1511</td>\n",
       "      <td>187</td>\n",
       "      <td>4</td>\n",
       "    </tr>\n",
       "    <tr>\n",
       "      <th>7</th>\n",
       "      <td>0</td>\n",
       "      <td>0</td>\n",
       "      <td>35</td>\n",
       "      <td>571</td>\n",
       "      <td>254</td>\n",
       "      <td>20</td>\n",
       "    </tr>\n",
       "    <tr>\n",
       "      <th>8</th>\n",
       "      <td>0</td>\n",
       "      <td>0</td>\n",
       "      <td>3</td>\n",
       "      <td>96</td>\n",
       "      <td>66</td>\n",
       "      <td>10</td>\n",
       "    </tr>\n",
       "  </tbody>\n",
       "</table>\n",
       "</div>"
      ],
      "text/plain": [
       "   3   4    5     6    7   8\n",
       "3  0   0    6    14    0   0\n",
       "4  0  12   99    51    1   0\n",
       "5  0   8  827   602   19   1\n",
       "6  0   3  493  1511  187   4\n",
       "7  0   0   35   571  254  20\n",
       "8  0   0    3    96   66  10"
      ]
     },
     "execution_count": 457,
     "metadata": {},
     "output_type": "execute_result"
    }
   ],
   "source": [
    "clf = RandomForestClassifier(n_estimators=200)\n",
    "(kappa2,z2) = kfoldValidation(ww,clf,10)\n",
    "kappa2"
   ]
  },
  {
   "cell_type": "code",
   "execution_count": 172,
   "metadata": {
    "collapsed": false
   },
   "outputs": [
    {
     "name": "stdout",
     "output_type": "stream",
     "text": [
      "4898\n",
      "Int64Index([3923, 2034, 4416, 1695,  413, 3759,  528,  376, 4865, 1208,\n",
      "            ...\n",
      "            4306, 2574, 4206, 2402, 1835,   58, 1541,  749, 4376,   63],\n",
      "           dtype='int64', length=4408)\n",
      "Int64Index([   5,    6,   23,   24,   25,   52,   55,   59,   67,   70,\n",
      "            ...\n",
      "            4809, 4819, 4821, 4844, 4849, 4850, 4858, 4878, 4884, 4895],\n",
      "           dtype='int64', length=490)\n",
      "0.688914027149\n",
      "0.673098751419\n",
      "0.665909090909\n",
      "0.692045454545\n",
      "0.689419795222\n",
      "0.681877423849\n"
     ]
    },
    {
     "data": {
      "text/html": [
       "<div>\n",
       "<table border=\"1\" class=\"dataframe\">\n",
       "  <thead>\n",
       "    <tr style=\"text-align: right;\">\n",
       "      <th></th>\n",
       "      <th>3</th>\n",
       "      <th>4</th>\n",
       "      <th>5</th>\n",
       "      <th>6</th>\n",
       "      <th>7</th>\n",
       "      <th>8</th>\n",
       "    </tr>\n",
       "  </thead>\n",
       "  <tbody>\n",
       "    <tr>\n",
       "      <th>3</th>\n",
       "      <td>0</td>\n",
       "      <td>0</td>\n",
       "      <td>8</td>\n",
       "      <td>11</td>\n",
       "      <td>0</td>\n",
       "      <td>0</td>\n",
       "    </tr>\n",
       "    <tr>\n",
       "      <th>4</th>\n",
       "      <td>0</td>\n",
       "      <td>33</td>\n",
       "      <td>68</td>\n",
       "      <td>45</td>\n",
       "      <td>0</td>\n",
       "      <td>0</td>\n",
       "    </tr>\n",
       "    <tr>\n",
       "      <th>5</th>\n",
       "      <td>0</td>\n",
       "      <td>9</td>\n",
       "      <td>900</td>\n",
       "      <td>389</td>\n",
       "      <td>12</td>\n",
       "      <td>0</td>\n",
       "    </tr>\n",
       "    <tr>\n",
       "      <th>6</th>\n",
       "      <td>0</td>\n",
       "      <td>2</td>\n",
       "      <td>268</td>\n",
       "      <td>1577</td>\n",
       "      <td>119</td>\n",
       "      <td>1</td>\n",
       "    </tr>\n",
       "    <tr>\n",
       "      <th>7</th>\n",
       "      <td>0</td>\n",
       "      <td>0</td>\n",
       "      <td>14</td>\n",
       "      <td>352</td>\n",
       "      <td>430</td>\n",
       "      <td>5</td>\n",
       "    </tr>\n",
       "    <tr>\n",
       "      <th>8</th>\n",
       "      <td>0</td>\n",
       "      <td>0</td>\n",
       "      <td>2</td>\n",
       "      <td>51</td>\n",
       "      <td>45</td>\n",
       "      <td>63</td>\n",
       "    </tr>\n",
       "  </tbody>\n",
       "</table>\n",
       "</div>"
      ],
      "text/plain": [
       "   3   4    5     6    7   8\n",
       "3  0   0    8    11    0   0\n",
       "4  0  33   68    45    0   0\n",
       "5  0   9  900   389   12   0\n",
       "6  0   2  268  1577  119   1\n",
       "7  0   0   14   352  430   5\n",
       "8  0   0    2    51   45  63"
      ]
     },
     "execution_count": 172,
     "metadata": {},
     "output_type": "execute_result"
    }
   ],
   "source": [
    "print len(ww)\n",
    "ww_train = ww.sample(frac=0.9)\n",
    "print ww_train.index\n",
    "ww_test = ww[map(lambda x: not x in (ww_train.index),ww.index)]\n",
    "print ww_test.index\n",
    "clf = RandomForestClassifier(n_estimators=300)\n",
    "\n",
    "(kappa2,z2) = kfoldValidation(ww_train,clf,5)\n",
    "kappa2\n",
    "scores = cross_val_score(clf, iris.data, iris.target)\n",
    "scores"
   ]
  },
  {
   "cell_type": "code",
   "execution_count": 189,
   "metadata": {
    "collapsed": false
   },
   "outputs": [],
   "source": [
    "clf = RandomForestClassifier(n_estimators=200)\n",
    "skf = StratifiedKFold(n_folds =3,y=rw.iloc[:,-1])\n",
    "scores = cross_val_score(clf, rw.iloc[:,0:-1], rw.iloc[:,-1], cv=skf)"
   ]
  },
  {
   "cell_type": "code",
   "execution_count": 213,
   "metadata": {
    "collapsed": false
   },
   "outputs": [
    {
     "name": "stdout",
     "output_type": "stream",
     "text": [
      "Accuracy: 0.57 (+/- 0.06)\n",
      "[0.5647279549718625, 0.9606003752345612, 0.9993746091307497]\n"
     ]
    },
    {
     "data": {
      "text/html": [
       "<div>\n",
       "<table border=\"1\" class=\"dataframe\">\n",
       "  <thead>\n",
       "    <tr style=\"text-align: right;\">\n",
       "      <th></th>\n",
       "      <th>3</th>\n",
       "      <th>4</th>\n",
       "      <th>5</th>\n",
       "      <th>6</th>\n",
       "      <th>7</th>\n",
       "      <th>8</th>\n",
       "    </tr>\n",
       "  </thead>\n",
       "  <tbody>\n",
       "    <tr>\n",
       "      <th>3</th>\n",
       "      <td>0</td>\n",
       "      <td>2</td>\n",
       "      <td>7</td>\n",
       "      <td>1</td>\n",
       "      <td>0</td>\n",
       "      <td>0</td>\n",
       "    </tr>\n",
       "    <tr>\n",
       "      <th>4</th>\n",
       "      <td>1</td>\n",
       "      <td>1</td>\n",
       "      <td>33</td>\n",
       "      <td>18</td>\n",
       "      <td>0</td>\n",
       "      <td>0</td>\n",
       "    </tr>\n",
       "    <tr>\n",
       "      <th>5</th>\n",
       "      <td>0</td>\n",
       "      <td>2</td>\n",
       "      <td>482</td>\n",
       "      <td>193</td>\n",
       "      <td>4</td>\n",
       "      <td>0</td>\n",
       "    </tr>\n",
       "    <tr>\n",
       "      <th>6</th>\n",
       "      <td>0</td>\n",
       "      <td>1</td>\n",
       "      <td>244</td>\n",
       "      <td>367</td>\n",
       "      <td>26</td>\n",
       "      <td>0</td>\n",
       "    </tr>\n",
       "    <tr>\n",
       "      <th>7</th>\n",
       "      <td>0</td>\n",
       "      <td>0</td>\n",
       "      <td>20</td>\n",
       "      <td>126</td>\n",
       "      <td>53</td>\n",
       "      <td>0</td>\n",
       "    </tr>\n",
       "    <tr>\n",
       "      <th>8</th>\n",
       "      <td>0</td>\n",
       "      <td>0</td>\n",
       "      <td>0</td>\n",
       "      <td>12</td>\n",
       "      <td>6</td>\n",
       "      <td>0</td>\n",
       "    </tr>\n",
       "  </tbody>\n",
       "</table>\n",
       "</div>"
      ],
      "text/plain": [
       "   3  4    5    6   7  8\n",
       "3  0  2    7    1   0  0\n",
       "4  1  1   33   18   0  0\n",
       "5  0  2  482  193   4  0\n",
       "6  0  1  244  367  26  0\n",
       "7  0  0   20  126  53  0\n",
       "8  0  0    0   12   6  0"
      ]
     },
     "execution_count": 213,
     "metadata": {},
     "output_type": "execute_result"
    }
   ],
   "source": [
    "scores\n",
    "df = rw\n",
    "x = df.iloc[:,0:-1]\n",
    "y = df.iloc[:,-1]\n",
    "print(\"Accuracy: %0.2f (+/- %0.2f)\" % (scores.mean(), scores.std() * 2))\n",
    "predicted = cross_val_predict(clf, x, y, cv=skf)\n",
    "(kappa,z) = compute( rw.iloc[:,-1],predicted)\n",
    "print computeREC(y,predicted)\n",
    "kappa\n",
    "#metrics.accuracy_score(rw.iloc[:,-1], predicted) "
   ]
  },
  {
   "cell_type": "code",
   "execution_count": 6,
   "metadata": {
    "collapsed": true
   },
   "outputs": [],
   "source": [
    "def modelREC(df,model):\n",
    "    x = df.iloc[:,0:-1]\n",
    "    y = df.iloc[:,-1]\n",
    "    skf = StratifiedKFold(n_folds =5,y=df.iloc[:,-1])\n",
    "    predicted = cross_val_predict(model, x, y, cv=skf)\n",
    "    (kappa,z) = compute( y,predicted)\n",
    "    rec = computeREC(y,predicted)\n",
    "    return (kappa,z,rec)"
   ]
  },
  {
   "cell_type": "code",
   "execution_count": 63,
   "metadata": {
    "collapsed": false
   },
   "outputs": [],
   "source": [
    "svr = SVR(kernel='rbf',epsilon=0.192,C=85.82,gamma=0.001)\n",
    "svr_rec=modelREC(rw,svr)"
   ]
  },
  {
   "cell_type": "code",
   "execution_count": 111,
   "metadata": {
    "collapsed": false
   },
   "outputs": [
    {
     "data": {
      "text/plain": [
       "(   3   4    5     6    7  8\n",
       " 3  1   3    7     9    0  0\n",
       " 4  0  10   97    53    3  0\n",
       " 5  0  19  715   687   32  2\n",
       " 6  2  14  477  1445  255  4\n",
       " 7  0   0   70   551  258  1\n",
       " 8  0   0   19    84   72  0,\n",
       " 0.4959167006941609,\n",
       " [0.49591670069417443, 0.8254389546754045, 0.9830543078808008])"
      ]
     },
     "execution_count": 111,
     "metadata": {},
     "output_type": "execute_result"
    }
   ],
   "source": [
    "svr = SVR(kernel='rbf',epsilon=0.192,C=85.36,gamma=0.0012)\n",
    "modelREC(ww,svr)"
   ]
  },
  {
   "cell_type": "code",
   "execution_count": 64,
   "metadata": {
    "collapsed": false
   },
   "outputs": [],
   "source": [
    "reg = linear_model.Ridge (alpha = 0.07)\n",
    "reg_rec=modelREC(rw,reg)"
   ]
  },
  {
   "cell_type": "code",
   "execution_count": 112,
   "metadata": {
    "collapsed": false
   },
   "outputs": [
    {
     "data": {
      "text/plain": [
       "(   3  4    5     6    7  8\n",
       " 3  0  1    5    13    1  0\n",
       " 4  0  5   83    74    1  0\n",
       " 5  0  7  596   836   18  0\n",
       " 6  0  0  302  1702  194  0\n",
       " 7  0  0   37   640  203  0\n",
       " 8  0  0   11   100   64  0,\n",
       " 0.5116374030216415,\n",
       " [0.5116374030216556, 0.8362596978358786, 0.982441812984925])"
      ]
     },
     "execution_count": 112,
     "metadata": {},
     "output_type": "execute_result"
    }
   ],
   "source": [
    "reg = linear_model.Ridge (alpha = 0.07)\n",
    "modelREC(ww,reg)"
   ]
  },
  {
   "cell_type": "code",
   "execution_count": 65,
   "metadata": {
    "collapsed": false
   },
   "outputs": [],
   "source": [
    "rfc = RandomForestClassifier(100)\n",
    "rfc_rec=modelREC(rw,rfc)"
   ]
  },
  {
   "cell_type": "code",
   "execution_count": 113,
   "metadata": {
    "collapsed": false
   },
   "outputs": [
    {
     "data": {
      "text/plain": [
       "(   3   4    5     6    7  8\n",
       " 3  0   0    7    13    0  0\n",
       " 4  0  10   99    50    4  0\n",
       " 5  0  14  784   642   16  1\n",
       " 6  0   2  487  1514  193  2\n",
       " 7  0   0   42   589  249  0\n",
       " 8  0   0    2   106   58  9,\n",
       " 0.5238873009391588,\n",
       " [0.5238873009391735, 0.9489587586770428, 0.9955083707636107])"
      ]
     },
     "execution_count": 113,
     "metadata": {},
     "output_type": "execute_result"
    }
   ],
   "source": [
    "rfc = RandomForestClassifier(100)\n",
    "modelREC(ww,rfc)"
   ]
  },
  {
   "cell_type": "code",
   "execution_count": 66,
   "metadata": {
    "collapsed": false
   },
   "outputs": [],
   "source": [
    "knn =neighbors.KNeighborsClassifier(180)\n",
    "knn_rec=modelREC(rw,knn)"
   ]
  },
  {
   "cell_type": "code",
   "execution_count": 114,
   "metadata": {
    "collapsed": false
   },
   "outputs": [
    {
     "data": {
      "text/plain": [
       "(   3  4    5     6  7  8\n",
       " 3  0  0    6    14  0  0\n",
       " 4  0  0   32   131  0  0\n",
       " 5  0  0  394  1062  1  0\n",
       " 6  0  0  448  1743  7  0\n",
       " 7  0  0   99   780  1  0\n",
       " 8  0  0   19   156  0  0,\n",
       " 0.4365046957942017,\n",
       " [0.43650469579421286, 0.9120048999591973, 0.9922417313189392])"
      ]
     },
     "execution_count": 114,
     "metadata": {},
     "output_type": "execute_result"
    }
   ],
   "source": [
    "knn =neighbors.KNeighborsClassifier(180)\n",
    "modelREC(ww,knn)"
   ]
  },
  {
   "cell_type": "code",
   "execution_count": 67,
   "metadata": {
    "collapsed": false
   },
   "outputs": [],
   "source": [
    "abr = AdaBoostRegressor(n_estimators=23,learning_rate=0.18)\n",
    "abr_rec=modelREC(rw,abr)"
   ]
  },
  {
   "cell_type": "code",
   "execution_count": 115,
   "metadata": {
    "collapsed": false
   },
   "outputs": [
    {
     "data": {
      "text/plain": [
       "(   3  4    5     6    7  8\n",
       " 3  0  0    5    15    0  0\n",
       " 4  0  0   91    72    0  0\n",
       " 5  0  0  778   662   17  0\n",
       " 6  0  0  469  1506  223  0\n",
       " 7  0  0   46   584  250  0\n",
       " 8  0  0    5    94   76  0,\n",
       " 0.5173540220498163,\n",
       " [0.5173540220498306, 0.8378930175582143, 0.9834626378113848])"
      ]
     },
     "execution_count": 115,
     "metadata": {},
     "output_type": "execute_result"
    }
   ],
   "source": [
    "abr = AdaBoostRegressor(n_estimators=23,learning_rate=0.18)\n",
    "modelREC(ww,abr)"
   ]
  },
  {
   "cell_type": "code",
   "execution_count": 68,
   "metadata": {
    "collapsed": false
   },
   "outputs": [],
   "source": [
    "clf = svm.SVC(C=49.658,gamma=0.001)\n",
    "svm_rec=modelREC(rw,clf)"
   ]
  },
  {
   "cell_type": "code",
   "execution_count": 116,
   "metadata": {
    "collapsed": false
   },
   "outputs": [
    {
     "data": {
      "text/plain": [
       "(   3  4    5     6    7  8\n",
       " 3  1  0   11     8    0  0\n",
       " 4  1  1   98    61    2  0\n",
       " 5  5  9  766   659   18  0\n",
       " 6  3  3  552  1488  150  2\n",
       " 7  0  1   83   651  145  0\n",
       " 8  0  0   25   108   42  0,\n",
       " 0.4902000816659861,\n",
       " [0.49020008166599943, 0.9316047366272259, 0.9912209064924794])"
      ]
     },
     "execution_count": 116,
     "metadata": {},
     "output_type": "execute_result"
    }
   ],
   "source": [
    "clf = svm.SVC(C=49.658,gamma=0.001)\n",
    "modelREC(ww,clf)"
   ]
  },
  {
   "cell_type": "code",
   "execution_count": 118,
   "metadata": {
    "collapsed": false
   },
   "outputs": [],
   "source": [
    "lda = LinearDiscriminantAnalysis(n_components=6)\n",
    "lda_rec=modelREC(rw,lda)"
   ]
  },
  {
   "cell_type": "code",
   "execution_count": 119,
   "metadata": {
    "collapsed": false
   },
   "outputs": [
    {
     "data": {
      "text/plain": [
       "(   3   4    5     6    7  8\n",
       " 3  1   2    4    12    0  1\n",
       " 4  2  36   65    59    1  0\n",
       " 5  3  49  704   682   18  1\n",
       " 6  3  17  429  1504  237  0\n",
       " 7  0   0   46   581  253  0\n",
       " 8  0   2    2   103   67  0,\n",
       " 0.5100040832993058,\n",
       " [0.5100040832993199, 0.9418129848918241, 0.993670886075983])"
      ]
     },
     "execution_count": 119,
     "metadata": {},
     "output_type": "execute_result"
    }
   ],
   "source": [
    "lda = LinearDiscriminantAnalysis(n_components=6)\n",
    "modelREC(ww,lda)"
   ]
  },
  {
   "cell_type": "code",
   "execution_count": 75,
   "metadata": {
    "collapsed": false
   },
   "outputs": [
    {
     "data": {
      "text/plain": [
       "[0.5872420262664235, 0.8711694809256103, 0.9918699186992294]"
      ]
     },
     "execution_count": 75,
     "metadata": {},
     "output_type": "execute_result"
    }
   ],
   "source": [
    "svr_rec[2]"
   ]
  },
  {
   "cell_type": "code",
   "execution_count": 105,
   "metadata": {
    "collapsed": false
   },
   "outputs": [
    {
     "data": {
      "image/png": "[encoded data removed]",
      "text/plain": [
       "<matplotlib.figure.Figure at 0x11c4cbb10>"
      ]
     },
     "metadata": {},
     "output_type": "display_data"
    }
   ],
   "source": [
    "kappas=[svr_rec[0],reg_rec[0],rfc_rec[0],knn_rec[0],abr_rec[0],svm_rec[0],lda_rec[0]]\n",
    "plt.figure(figsize=(10,6))\n",
    "\n",
    "\n",
    "labels =[\n",
    "    'svr',\n",
    "    \"ridge regression\",\n",
    "    'random forest ',\n",
    "    'KNN',\n",
    "    'GBDT',\n",
    "    'SVM',\n",
    "    'LDA'\n",
    "    \n",
    "]\n",
    "for i in range(len(kappas)):\n",
    "    kappa = kappas[i]\n",
    "    t = []\n",
    "    rate = []\n",
    "    for j in range(len(kappa)):\n",
    "        t.append(j+3)\n",
    "        if(sum(kappa.iloc[:,j])>0):\n",
    "            rate.append(float(kappa.iloc[j,j])/sum(kappa.iloc[:,j]))\n",
    "        else:\n",
    "            rate.append(0)\n",
    "    plt.plot(t,rate,label=labels[i],linewidth=2,alpha=.9)\n",
    "plt.xlabel(\"quality\")\n",
    "plt.ylabel(\"Precision\")\n",
    "plt.title(\"Accuracy Rate\")\n",
    "plt.legend(loc='upper left')\n",
    "plt.show()"
   ]
  },
  {
   "cell_type": "code",
   "execution_count": 106,
   "metadata": {
    "collapsed": false
   },
   "outputs": [
    {
     "data": {
      "image/png": "[encoded data removed]",
      "text/plain": [
       "<matplotlib.figure.Figure at 0x11c4dee50>"
      ]
     },
     "metadata": {},
     "output_type": "display_data"
    }
   ],
   "source": [
    "kappas=[svr_rec[0],reg_rec[0],rfc_rec[0],knn_rec[0],abr_rec[0],svm_rec[0],lda_rec[0]]\n",
    "plt.figure(figsize=(10,6))\n",
    "\n",
    "\n",
    "labels =[\n",
    "    'svr',\n",
    "    \"ridge regression\",\n",
    "    'random forest ',\n",
    "    'KNN',\n",
    "    'GBDT',\n",
    "    'SVM',\n",
    "    'LDA'\n",
    "    \n",
    "]\n",
    "for i in range(len(kappas)):\n",
    "    kappa = kappas[i]\n",
    "    t = []\n",
    "    rate = []\n",
    "    for j in range(len(kappa)):\n",
    "        t.append(j+3)\n",
    "        if(sum(kappa.iloc[:,j])>0):\n",
    "            rate.append(float(kappa.iloc[j,j])/sum(kappa.iloc[j,:]))\n",
    "        else:\n",
    "            rate.append(0)\n",
    "    plt.plot(t,rate,label=labels[i],linewidth=2,alpha=.9)\n",
    "plt.xlabel(\"quality\")\n",
    "plt.ylabel(\"Precision\")\n",
    "plt.title(\"Recall Rate\")\n",
    "plt.legend(loc='upper left')\n",
    "plt.show()"
   ]
  },
  {
   "cell_type": "code",
   "execution_count": 95,
   "metadata": {
    "collapsed": false
   },
   "outputs": [
    {
     "data": {
      "text/plain": [
       "3    0\n",
       "4    0\n",
       "5    0\n",
       "6    0\n",
       "7    0\n",
       "8    0\n",
       "Name: 8, dtype: int64"
      ]
     },
     "execution_count": 95,
     "metadata": {},
     "output_type": "execute_result"
    }
   ],
   "source": [
    "svr_rec[0].loc[:,'8']"
   ]
  },
  {
   "cell_type": "code",
   "execution_count": 107,
   "metadata": {
    "collapsed": false
   },
   "outputs": [
    {
     "data": {
      "image/png": "[encoded data removed]",
      "text/plain": [
       "<matplotlib.figure.Figure at 0x11c4de710>"
      ]
     },
     "metadata": {},
     "output_type": "display_data"
    }
   ],
   "source": [
    "rec=[svr_rec[2],reg_rec[2],rfc_rec[2],knn_rec[2],abr_rec[2],svm_rec[2],lda_rec[2]]\n",
    "colors =[\n",
    "    '#0099cc',\n",
    "    \"#ffcc00\",\n",
    "    '#dd3300',\n",
    "    '#00cc33',\n",
    "    '#ccdd00',\n",
    "    '#338800',\n",
    "    '#443344'\n",
    "]\n",
    "labels =[\n",
    "    'svr',\n",
    "    \"ridge regression\",\n",
    "    'random forest ',\n",
    "    'KNN',\n",
    "    'GBDT',\n",
    "    'SVM',\n",
    "    'LDA'\n",
    "    \n",
    "]\n",
    "x = [0,1,2]\n",
    "plt.figure(figsize=(10,6))\n",
    "for i,model in enumerate(rec):\n",
    "    #print rec[i]\n",
    "    plt.plot(x,rec[i],label=labels[i],linewidth=2,alpha=.9)\n",
    "\n",
    "plt.xlabel(\"Tolarence\")\n",
    "plt.ylabel(\"Precision\")\n",
    "plt.title(\"REC Curve\")\n",
    "plt.legend(loc='upper left')\n",
    "plt.show()"
   ]
  },
  {
   "cell_type": "code",
   "execution_count": 261,
   "metadata": {
    "collapsed": false
   },
   "outputs": [
    {
     "data": {
      "image/png": "[encoded data removed]",
      "text/plain": [
       "<matplotlib.figure.Figure at 0xcac0160>"
      ]
     },
     "metadata": {},
     "output_type": "display_data"
    }
   ],
   "source": [
    "models=[\n",
    "    LinearDiscriminantAnalysis(n_components=6),\n",
    "    linear_model.Ridge (alpha = 0.01),\n",
    "    DecisionTreeClassifier(random_state=0),\n",
    "    RandomForestClassifier(n_estimators=100),\n",
    "    neighbors.KNeighborsClassifier(20),\n",
    "    linear_model.BayesianRidge(),\n",
    "    SVR(kernel='rbf',epsilon=0.01,C=6,gamma=0.01),\n",
    "    GradientBoostingClassifier(n_estimators=4, learning_rate=0.3,\n",
    "         max_depth=5)\n",
    "]\n",
    "\n",
    "colors =[\n",
    "    '#0099cc',\n",
    "    \"#ffcc00\",\n",
    "    '#dd3300',\n",
    "    '#00cc33',\n",
    "    '#ccdd00',\n",
    "    '#338800',\n",
    "    '#443344',\n",
    "    '#ff00dd'\n",
    "]\n",
    "labels =[\n",
    "    'lda',\n",
    "    \"ridge regression\",\n",
    "    'decision tree',\n",
    "    'random forest',\n",
    "    'KNN',\n",
    "    'bayes ridge',\n",
    "    'svr',\n",
    "    'GradientBoosting'\n",
    "    \n",
    "]\n",
    "x = [0,1,2]\n",
    "plt.figure(figsize=(10,6))\n",
    "for i,model in enumerate(models):\n",
    "    (kappa,z,rec) = modelREC(rw,model)\n",
    "    plt.plot(x,rec,label=labels[i],color=colors[i],linewidth=2)\n",
    "\n",
    "plt.xlabel(\"Tolarence\")\n",
    "plt.ylabel(\"Precision\")\n",
    "plt.title(\"REC Curve\")\n",
    "plt.legend()\n",
    "plt.show()\n",
    "    \n"
   ]
  },
  {
   "cell_type": "code",
   "execution_count": 222,
   "metadata": {
    "collapsed": false
   },
   "outputs": [
    {
     "data": {
      "image/png": "[encoded data removed]",
      "text/plain": [
       "<matplotlib.figure.Figure at 0x13319940>"
      ]
     },
     "metadata": {},
     "output_type": "display_data"
    }
   ],
   "source": [
    "x = [0,1,2]\n",
    "plt.figure(figsize=(8,4))\n",
    "plt.plot(x,computeREC(y,predicted),label=\"random forest\",color=\"#0099cc\",linewidth=2)\n",
    "plt.xlabel(\"Tolarence\")\n",
    "plt.ylabel(\"Precision\")\n",
    "plt.title(\"REC Curve\")\n",
    "plt.legend()\n",
    "plt.show()"
   ]
  },
  {
   "cell_type": "code",
   "execution_count": 11,
   "metadata": {
    "collapsed": true
   },
   "outputs": [],
   "source": [
    "def computeREC(y,y1):\n",
    "    ts = [0.5,1,2]\n",
    "    rec = [0,0,0]\n",
    "    for i in range(len(y)):\n",
    "        for j,t in enumerate(ts):\n",
    "            if(y1[i] >= y[i]-t and y1[i]<=y[i]+t):\n",
    "                rec[j]+=float(1)/len(y)\n",
    "    return rec"
   ]
  },
  {
   "cell_type": "code",
   "execution_count": 197,
   "metadata": {
    "collapsed": false
   },
   "outputs": [
    {
     "data": {
      "text/plain": [
       "array([5, 5, 5, ..., 6, 6, 6], dtype=int64)"
      ]
     },
     "execution_count": 197,
     "metadata": {},
     "output_type": "execute_result"
    }
   ],
   "source": [
    "predicted"
   ]
  },
  {
   "cell_type": "code",
   "execution_count": 461,
   "metadata": {
    "collapsed": false
   },
   "outputs": [
    {
     "name": "stdout",
     "output_type": "stream",
     "text": [
      "0.518518518519\n",
      "0.583850931677\n",
      "0.590062111801\n",
      "0.46875\n",
      "0.45\n",
      "0.5375\n",
      "0.4625\n",
      "0.46875\n",
      "0.550632911392\n",
      "0.458598726115\n",
      "0.50891631995\n"
     ]
    },
    {
     "data": {
      "text/html": [
       "<div>\n",
       "<table border=\"1\" class=\"dataframe\">\n",
       "  <thead>\n",
       "    <tr style=\"text-align: right;\">\n",
       "      <th></th>\n",
       "      <th>3</th>\n",
       "      <th>4</th>\n",
       "      <th>5</th>\n",
       "      <th>6</th>\n",
       "      <th>7</th>\n",
       "      <th>8</th>\n",
       "    </tr>\n",
       "  </thead>\n",
       "  <tbody>\n",
       "    <tr>\n",
       "      <th>3</th>\n",
       "      <td>0</td>\n",
       "      <td>0</td>\n",
       "      <td>6</td>\n",
       "      <td>4</td>\n",
       "      <td>0</td>\n",
       "      <td>0</td>\n",
       "    </tr>\n",
       "    <tr>\n",
       "      <th>4</th>\n",
       "      <td>0</td>\n",
       "      <td>0</td>\n",
       "      <td>32</td>\n",
       "      <td>21</td>\n",
       "      <td>0</td>\n",
       "      <td>0</td>\n",
       "    </tr>\n",
       "    <tr>\n",
       "      <th>5</th>\n",
       "      <td>0</td>\n",
       "      <td>0</td>\n",
       "      <td>442</td>\n",
       "      <td>239</td>\n",
       "      <td>0</td>\n",
       "      <td>0</td>\n",
       "    </tr>\n",
       "    <tr>\n",
       "      <th>6</th>\n",
       "      <td>0</td>\n",
       "      <td>0</td>\n",
       "      <td>264</td>\n",
       "      <td>368</td>\n",
       "      <td>6</td>\n",
       "      <td>0</td>\n",
       "    </tr>\n",
       "    <tr>\n",
       "      <th>7</th>\n",
       "      <td>0</td>\n",
       "      <td>0</td>\n",
       "      <td>30</td>\n",
       "      <td>165</td>\n",
       "      <td>4</td>\n",
       "      <td>0</td>\n",
       "    </tr>\n",
       "    <tr>\n",
       "      <th>8</th>\n",
       "      <td>0</td>\n",
       "      <td>0</td>\n",
       "      <td>3</td>\n",
       "      <td>14</td>\n",
       "      <td>1</td>\n",
       "      <td>0</td>\n",
       "    </tr>\n",
       "  </tbody>\n",
       "</table>\n",
       "</div>"
      ],
      "text/plain": [
       "   3  4    5    6  7  8\n",
       "3  0  0    6    4  0  0\n",
       "4  0  0   32   21  0  0\n",
       "5  0  0  442  239  0  0\n",
       "6  0  0  264  368  6  0\n",
       "7  0  0   30  165  4  0\n",
       "8  0  0    3   14  1  0"
      ]
     },
     "execution_count": 461,
     "metadata": {},
     "output_type": "execute_result"
    }
   ],
   "source": [
    "clf = svm.SVC(kernel='rbf',gamma=0.01,C=1)\n",
    "(kappa2,z2) = kfoldValidation(rw,clf,10)\n",
    "kappa2"
   ]
  },
  {
   "cell_type": "code",
   "execution_count": 493,
   "metadata": {
    "collapsed": false
   },
   "outputs": [
    {
     "name": "stdout",
     "output_type": "stream",
     "text": [
      "0.382892057026\n",
      "0.433808553971\n",
      "0.429735234216\n",
      "0.448979591837\n",
      "0.438775510204\n",
      "0.505112474438\n",
      "0.470347648262\n",
      "0.450819672131\n",
      "0.480492813142\n",
      "0.431211498973\n",
      "0.44721750542\n",
      "0.44716942571\n"
     ]
    },
    {
     "data": {
      "text/html": [
       "<div>\n",
       "<table border=\"1\" class=\"dataframe\">\n",
       "  <thead>\n",
       "    <tr style=\"text-align: right;\">\n",
       "      <th></th>\n",
       "      <th>3</th>\n",
       "      <th>4</th>\n",
       "      <th>5</th>\n",
       "      <th>6</th>\n",
       "      <th>7</th>\n",
       "      <th>8</th>\n",
       "    </tr>\n",
       "  </thead>\n",
       "  <tbody>\n",
       "    <tr>\n",
       "      <th>3</th>\n",
       "      <td>0</td>\n",
       "      <td>1</td>\n",
       "      <td>3</td>\n",
       "      <td>15</td>\n",
       "      <td>1</td>\n",
       "      <td>0</td>\n",
       "    </tr>\n",
       "    <tr>\n",
       "      <th>4</th>\n",
       "      <td>0</td>\n",
       "      <td>4</td>\n",
       "      <td>49</td>\n",
       "      <td>103</td>\n",
       "      <td>7</td>\n",
       "      <td>0</td>\n",
       "    </tr>\n",
       "    <tr>\n",
       "      <th>5</th>\n",
       "      <td>0</td>\n",
       "      <td>5</td>\n",
       "      <td>491</td>\n",
       "      <td>907</td>\n",
       "      <td>53</td>\n",
       "      <td>1</td>\n",
       "    </tr>\n",
       "    <tr>\n",
       "      <th>6</th>\n",
       "      <td>0</td>\n",
       "      <td>2</td>\n",
       "      <td>459</td>\n",
       "      <td>1539</td>\n",
       "      <td>194</td>\n",
       "      <td>4</td>\n",
       "    </tr>\n",
       "    <tr>\n",
       "      <th>7</th>\n",
       "      <td>0</td>\n",
       "      <td>0</td>\n",
       "      <td>124</td>\n",
       "      <td>603</td>\n",
       "      <td>152</td>\n",
       "      <td>1</td>\n",
       "    </tr>\n",
       "    <tr>\n",
       "      <th>8</th>\n",
       "      <td>0</td>\n",
       "      <td>0</td>\n",
       "      <td>16</td>\n",
       "      <td>127</td>\n",
       "      <td>30</td>\n",
       "      <td>2</td>\n",
       "    </tr>\n",
       "  </tbody>\n",
       "</table>\n",
       "</div>"
      ],
      "text/plain": [
       "   3  4    5     6    7  8\n",
       "3  0  1    3    15    1  0\n",
       "4  0  4   49   103    7  0\n",
       "5  0  5  491   907   53  1\n",
       "6  0  2  459  1539  194  4\n",
       "7  0  0  124   603  152  1\n",
       "8  0  0   16   127   30  2"
      ]
     },
     "execution_count": 493,
     "metadata": {},
     "output_type": "execute_result"
    }
   ],
   "source": [
    "clf = svm.SVC(kernel='rbf',gamma=0.1,C=1)\n",
    "(kappa2,z2) = kfoldValidation(ww,clf,10)\n",
    "print z2\n",
    "kappa2"
   ]
  },
  {
   "cell_type": "code",
   "execution_count": 279,
   "metadata": {
    "collapsed": false
   },
   "outputs": [
    {
     "name": "stdout",
     "output_type": "stream",
     "text": [
      "0.456790123457\n",
      "0.534161490683\n",
      "0.540372670807\n",
      "0.4125\n",
      "0.5875\n",
      "0.5375\n",
      "0.5125\n",
      "0.45\n",
      "0.487341772152\n",
      "0.490445859873\n",
      "0.500911191697\n",
      "0.500938086304\n"
     ]
    },
    {
     "data": {
      "text/html": [
       "<div>\n",
       "<table border=\"1\" class=\"dataframe\">\n",
       "  <thead>\n",
       "    <tr style=\"text-align: right;\">\n",
       "      <th></th>\n",
       "      <th>3</th>\n",
       "      <th>4</th>\n",
       "      <th>5</th>\n",
       "      <th>6</th>\n",
       "      <th>7</th>\n",
       "      <th>8</th>\n",
       "    </tr>\n",
       "  </thead>\n",
       "  <tbody>\n",
       "    <tr>\n",
       "      <th>3</th>\n",
       "      <td>0</td>\n",
       "      <td>4</td>\n",
       "      <td>5</td>\n",
       "      <td>1</td>\n",
       "      <td>0</td>\n",
       "      <td>0</td>\n",
       "    </tr>\n",
       "    <tr>\n",
       "      <th>4</th>\n",
       "      <td>0</td>\n",
       "      <td>2</td>\n",
       "      <td>31</td>\n",
       "      <td>12</td>\n",
       "      <td>8</td>\n",
       "      <td>0</td>\n",
       "    </tr>\n",
       "    <tr>\n",
       "      <th>5</th>\n",
       "      <td>1</td>\n",
       "      <td>14</td>\n",
       "      <td>402</td>\n",
       "      <td>227</td>\n",
       "      <td>37</td>\n",
       "      <td>0</td>\n",
       "    </tr>\n",
       "    <tr>\n",
       "      <th>6</th>\n",
       "      <td>0</td>\n",
       "      <td>6</td>\n",
       "      <td>187</td>\n",
       "      <td>315</td>\n",
       "      <td>128</td>\n",
       "      <td>2</td>\n",
       "    </tr>\n",
       "    <tr>\n",
       "      <th>7</th>\n",
       "      <td>0</td>\n",
       "      <td>1</td>\n",
       "      <td>17</td>\n",
       "      <td>91</td>\n",
       "      <td>82</td>\n",
       "      <td>8</td>\n",
       "    </tr>\n",
       "    <tr>\n",
       "      <th>8</th>\n",
       "      <td>0</td>\n",
       "      <td>0</td>\n",
       "      <td>0</td>\n",
       "      <td>9</td>\n",
       "      <td>9</td>\n",
       "      <td>0</td>\n",
       "    </tr>\n",
       "  </tbody>\n",
       "</table>\n",
       "</div>"
      ],
      "text/plain": [
       "   3   4    5    6    7  8\n",
       "3  0   4    5    1    0  0\n",
       "4  0   2   31   12    8  0\n",
       "5  1  14  402  227   37  0\n",
       "6  0   6  187  315  128  2\n",
       "7  0   1   17   91   82  8\n",
       "8  0   0    0    9    9  0"
      ]
     },
     "execution_count": 279,
     "metadata": {},
     "output_type": "execute_result"
    }
   ],
   "source": [
    "clf = AdaBoostClassifier(DecisionTreeClassifier(max_depth=2),\n",
    "    n_estimators=200,\n",
    "    learning_rate=0.1)\n",
    "(kappa2,z2) = kfoldValidation(rw,clf,10)\n",
    "print z2\n",
    "kappa2"
   ]
  },
  {
   "cell_type": "code",
   "execution_count": 8,
   "metadata": {
    "collapsed": false
   },
   "outputs": [
    {
     "data": {
      "image/png": "[encoded data removed]",
      "text/plain": [
       "<matplotlib.figure.Figure at 0x11527f910>"
      ]
     },
     "metadata": {},
     "output_type": "display_data"
    }
   ],
   "source": [
    "svr_linear = SVR(kernel='linear')\n",
    "y_linear = svr_linear.fit(x, y).predict(x)\n",
    "plt.scatter(y, y_linear, color='#ffcc00',lw=lw, label='RBF model')\n",
    "plt.show()"
   ]
  },
  {
   "cell_type": "code",
   "execution_count": 66,
   "metadata": {
    "collapsed": false
   },
   "outputs": [
    {
     "data": {
      "text/plain": [
       "(1279, 12)"
      ]
     },
     "execution_count": 66,
     "metadata": {},
     "output_type": "execute_result"
    }
   ],
   "source": [
    "kappa = compute(y,y_rbf)\n",
    "trainset = rw.sample(frac=0.8, replace=True)\n",
    "trainindex = trainset.index.tolist()\n",
    "#trainindex\n",
    "select = map(lambda x: not x in trainindex,rw.index)\n",
    "#(142 in trainindex)\n",
    "rw[select].shape\n",
    "trainset.shape"
   ]
  },
  {
   "cell_type": "code",
   "execution_count": 21,
   "metadata": {
    "collapsed": false
   },
   "outputs": [
    {
     "data": {
      "text/html": [
       "<div>\n",
       "<table border=\"1\" class=\"dataframe\">\n",
       "  <thead>\n",
       "    <tr style=\"text-align: right;\">\n",
       "      <th></th>\n",
       "      <th>3</th>\n",
       "      <th>4</th>\n",
       "      <th>5</th>\n",
       "      <th>6</th>\n",
       "      <th>7</th>\n",
       "      <th>8</th>\n",
       "    </tr>\n",
       "  </thead>\n",
       "  <tbody>\n",
       "    <tr>\n",
       "      <th>3</th>\n",
       "      <td>5</td>\n",
       "      <td>2</td>\n",
       "      <td>3</td>\n",
       "      <td>0</td>\n",
       "      <td>0</td>\n",
       "      <td>0</td>\n",
       "    </tr>\n",
       "    <tr>\n",
       "      <th>4</th>\n",
       "      <td>0</td>\n",
       "      <td>33</td>\n",
       "      <td>19</td>\n",
       "      <td>1</td>\n",
       "      <td>0</td>\n",
       "      <td>0</td>\n",
       "    </tr>\n",
       "    <tr>\n",
       "      <th>5</th>\n",
       "      <td>0</td>\n",
       "      <td>0</td>\n",
       "      <td>655</td>\n",
       "      <td>25</td>\n",
       "      <td>1</td>\n",
       "      <td>0</td>\n",
       "    </tr>\n",
       "    <tr>\n",
       "      <th>6</th>\n",
       "      <td>0</td>\n",
       "      <td>0</td>\n",
       "      <td>26</td>\n",
       "      <td>607</td>\n",
       "      <td>5</td>\n",
       "      <td>0</td>\n",
       "    </tr>\n",
       "    <tr>\n",
       "      <th>7</th>\n",
       "      <td>0</td>\n",
       "      <td>0</td>\n",
       "      <td>1</td>\n",
       "      <td>19</td>\n",
       "      <td>179</td>\n",
       "      <td>0</td>\n",
       "    </tr>\n",
       "    <tr>\n",
       "      <th>8</th>\n",
       "      <td>0</td>\n",
       "      <td>0</td>\n",
       "      <td>0</td>\n",
       "      <td>4</td>\n",
       "      <td>5</td>\n",
       "      <td>9</td>\n",
       "    </tr>\n",
       "  </tbody>\n",
       "</table>\n",
       "</div>"
      ],
      "text/plain": [
       "   3   4    5    6    7  8\n",
       "3  5   2    3    0    0  0\n",
       "4  0  33   19    1    0  0\n",
       "5  0   0  655   25    1  0\n",
       "6  0   0   26  607    5  0\n",
       "7  0   0    1   19  179  0\n",
       "8  0   0    0    4    5  9"
      ]
     },
     "execution_count": 21,
     "metadata": {},
     "output_type": "execute_result"
    }
   ],
   "source": [
    "df"
   ]
  },
  {
   "cell_type": "code",
   "execution_count": null,
   "metadata": {
    "collapsed": true
   },
   "outputs": [],
   "source": []
  }
 ],
 "metadata": {
  "anaconda-cloud": {},
  "kernelspec": {
   "display_name": "Python [conda root]",
   "language": "python",
   "name": "conda-root-py"
  },
  "language_info": {
   "codemirror_mode": {
    "name": "ipython",
    "version": 2
   },
   "file_extension": ".py",
   "mimetype": "text/x-python",
   "name": "python",
   "nbconvert_exporter": "python",
   "pygments_lexer": "ipython2",
   "version": "2.7.12"
  }
 },
 "nbformat": 4,
 "nbformat_minor": 1
}
