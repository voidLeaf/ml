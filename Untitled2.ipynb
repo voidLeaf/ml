{
 "cells": [
  {
   "cell_type": "code",
   "execution_count": 408,
   "metadata": {
    "collapsed": false
   },
   "outputs": [],
   "source": [
    "import pandas as pd\n",
    "import numpy as np\n",
    "from sklearn.svm import SVR\n",
    "import matplotlib.pyplot as plt\n",
    "import seaborn as sb\n",
    "from sklearn.cross_validation import cross_val_score\n",
    "from sklearn.cross_validation import cross_val_predict\n",
    "from sklearn.cross_validation import KFold\n",
    "from sklearn.discriminant_analysis import LinearDiscriminantAnalysis\n",
    "from sklearn import linear_model\n",
    "from sklearn import neighbors, datasets\n",
    "from sklearn.tree import DecisionTreeClassifier"
   ]
  },
  {
   "cell_type": "code",
   "execution_count": 4,
   "metadata": {
    "collapsed": false
   },
   "outputs": [],
   "source": [
    "rw = pd.read_csv('winequality-red.csv',sep=';')\n",
    "ww = pd.read_csv('winequality-white.csv',sep=';')"
   ]
  },
  {
   "cell_type": "code",
   "execution_count": 5,
   "metadata": {
    "collapsed": false
   },
   "outputs": [],
   "source": [
    "y = rw.iloc[:,-1]\n",
    "x = rw.iloc[:,0:-1]"
   ]
  },
  {
   "cell_type": "code",
   "execution_count": 339,
   "metadata": {
    "collapsed": true
   },
   "outputs": [],
   "source": [
    "def compute(y,y1):\n",
    "    z=0\n",
    "    m = np.zeros((13,13), dtype=np.int)\n",
    "    for i in range(len(y)):\n",
    "        class1 = int(y[i])\n",
    "        class2 = int(round(y1[i]))\n",
    "        m[class1,class2]+=1\n",
    "        #z+=abs(y1[i]-y[i])\n",
    "        if(class1==class2):\n",
    "            z+=1\n",
    "    df = pd.DataFrame(m[3:9,3:9], index=list('345678'), columns=list('345678'))\n",
    "    z=float(z)/(len(y))\n",
    "    return (df,z)\n",
    "            \n",
    "        "
   ]
  },
  {
   "cell_type": "code",
   "execution_count": 93,
   "metadata": {
    "collapsed": false
   },
   "outputs": [
    {
     "data": {
      "text/plain": [
       "0.7123202001250781"
      ]
     },
     "execution_count": 93,
     "metadata": {},
     "output_type": "execute_result"
    }
   ],
   "source": [
    "lw = 2\n",
    "svr_rbf = SVR(kernel='rbf',epsilon=0.1,C=100)\n",
    "y_rbf = cross_val_score(svr_rbf, x, y, cv=5)\n",
    "y_rbf\n",
    "#plt.scatter(y, y_rbf, color='#0099cc',lw=lw, label='RBF model')\n",
    "#plt.show()\n",
    "y_rbf = cross_val_predict(svr_rbf, x, y, cv=5)\n",
    "#metrics.accuracy_score(y, predicted) \n",
    "#plt.scatter(y, y_rbf, color='#0099cc',lw=lw, label='RBF model')\n",
    "#plt.show()\n",
    "(kappa,acc)=compute(y,y_rbf)\n",
    "kappa\n",
    "acc"
   ]
  },
  {
   "cell_type": "code",
   "execution_count": 295,
   "metadata": {
    "collapsed": false
   },
   "outputs": [],
   "source": [
    "def kfoldValidation(df,model,split):\n",
    "    kf = KFold(len(df),n_folds = split)\n",
    "    z=0\n",
    "    kappas=[]\n",
    "    for train_index, test_index in kf:\n",
    "        #print train_index\n",
    "        print len(train_index)\n",
    "        trainset = df[map(lambda x:x in train_index, df.index)]\n",
    "        testset = df[map(lambda x:x in test_index, df.index)]\n",
    "        trainx = trainset.iloc[:,0:-1]\n",
    "        trainy = trainset.iloc[:,-1]\n",
    "        testx = testset.iloc[:,0:-1]\n",
    "        testy = testset.iloc[:,-1].tolist()\n",
    "        y_rbf= model.fit(trainx, trainy).predict(testx)\n",
    "        #print y_rbf\n",
    "        (kappa,k) = compute(testy,y_rbf)\n",
    "        z =z+k\n",
    "        kappas.append(kappa)\n",
    "        print k\n",
    "    #print z/split\n",
    "    return (kappas,z/split)\n",
    "        "
   ]
  },
  {
   "cell_type": "code",
   "execution_count": 340,
   "metadata": {
    "collapsed": false
   },
   "outputs": [
    {
     "name": "stdout",
     "output_type": "stream",
     "text": [
      "1279\n",
      "0.590625\n",
      "1279\n",
      "0.553125\n",
      "1279\n",
      "0.515625\n",
      "1279\n",
      "0.559375\n",
      "1280\n",
      "0.592476489028\n"
     ]
    },
    {
     "data": {
      "text/plain": [
       "0.5622452978056426"
      ]
     },
     "execution_count": 340,
     "metadata": {},
     "output_type": "execute_result"
    }
   ],
   "source": [
    "svr_rbf = SVR(kernel='rbf',epsilon=0.4,C=6,gamma=0.003)\n",
    "#help(KFold)\n",
    "(kappa,z)=kfoldValidation(rw,svr_rbf,5)\n",
    "z\n",
    "#kappa[0]"
   ]
  },
  {
   "cell_type": "code",
   "execution_count": 341,
   "metadata": {
    "collapsed": false
   },
   "outputs": [
    {
     "name": "stdout",
     "output_type": "stream",
     "text": [
      "3918\n",
      "0.45\n",
      "3918\n",
      "0.475510204082\n",
      "3918\n",
      "0.523469387755\n",
      "3919\n",
      "0.497446373851\n",
      "3919\n",
      "0.556690500511\n"
     ]
    },
    {
     "data": {
      "text/plain": [
       "0.5006232932396657"
      ]
     },
     "execution_count": 341,
     "metadata": {},
     "output_type": "execute_result"
    }
   ],
   "source": [
    "svr_rbf = SVR(kernel='rbf',epsilon=0.4,C=6,gamma=0.001)\n",
    "#help(KFold)\n",
    "(kappa,z)=kfoldValidation(ww,svr_rbf,5)\n",
    "z\n",
    "#kappa[0]"
   ]
  },
  {
   "cell_type": "code",
   "execution_count": 342,
   "metadata": {
    "collapsed": false
   },
   "outputs": [
    {
     "name": "stdout",
     "output_type": "stream",
     "text": [
      "1279\n",
      "0.571875\n",
      "1279\n",
      "0.534375\n",
      "1279\n",
      "0.61875\n",
      "1279\n",
      "0.5625\n",
      "1280\n",
      "0.605015673981\n"
     ]
    },
    {
     "data": {
      "text/plain": [
       "0.5785031347962383"
      ]
     },
     "execution_count": 342,
     "metadata": {},
     "output_type": "execute_result"
    }
   ],
   "source": [
    "lda = LinearDiscriminantAnalysis(n_components=6)\n",
    "(kappa,z) =kfoldValidation(rw,lda,5)\n",
    "z"
   ]
  },
  {
   "cell_type": "code",
   "execution_count": 397,
   "metadata": {
    "collapsed": false
   },
   "outputs": [
    {
     "name": "stdout",
     "output_type": "stream",
     "text": [
      "3918\n",
      "0.461224489796\n",
      "3918\n",
      "0.49387755102\n",
      "3918\n",
      "0.525510204082\n",
      "3919\n",
      "0.542390194076\n",
      "3919\n",
      "0.533197139939\n"
     ]
    },
    {
     "data": {
      "text/plain": [
       "0.5112399157824519"
      ]
     },
     "execution_count": 397,
     "metadata": {},
     "output_type": "execute_result"
    }
   ],
   "source": [
    "lda = LinearDiscriminantAnalysis(n_components=6)\n",
    "(kappa,z) =kfoldValidation(ww,lda,5)\n",
    "z"
   ]
  },
  {
   "cell_type": "code",
   "execution_count": 372,
   "metadata": {
    "collapsed": false
   },
   "outputs": [
    {
     "name": "stdout",
     "output_type": "stream",
     "text": [
      "1279\n",
      "0.5625\n",
      "1279\n",
      "0.55625\n",
      "1279\n",
      "0.596875\n",
      "1279\n",
      "0.559375\n",
      "1280\n",
      "0.652037617555\n"
     ]
    },
    {
     "data": {
      "text/plain": [
       "0.5854075235109717"
      ]
     },
     "execution_count": 372,
     "metadata": {},
     "output_type": "execute_result"
    }
   ],
   "source": [
    "reg = linear_model.Ridge (alpha = 10)\n",
    "(kappa,z) = kfoldValidation(rw,reg,5)\n",
    "z"
   ]
  },
  {
   "cell_type": "code",
   "execution_count": 389,
   "metadata": {
    "collapsed": false
   },
   "outputs": [
    {
     "name": "stdout",
     "output_type": "stream",
     "text": [
      "3918\n",
      "0.458163265306\n",
      "3918\n",
      "0.510204081633\n",
      "3918\n",
      "0.508163265306\n",
      "3919\n",
      "0.539325842697\n",
      "3919\n",
      "0.544433094995\n"
     ]
    },
    {
     "data": {
      "text/plain": [
       "0.512057909987284"
      ]
     },
     "execution_count": 389,
     "metadata": {},
     "output_type": "execute_result"
    }
   ],
   "source": [
    "reg = linear_model.Ridge (alpha = 0.1)\n",
    "(kappa,z) = kfoldValidation(ww,reg,5)\n",
    "z"
   ]
  },
  {
   "cell_type": "code",
   "execution_count": 385,
   "metadata": {
    "collapsed": false
   },
   "outputs": [
    {
     "name": "stdout",
     "output_type": "stream",
     "text": [
      "1279\n",
      "0.59375\n",
      "1279\n",
      "0.525\n",
      "1279\n",
      "0.5875\n",
      "1279\n",
      "0.55\n",
      "1280\n",
      "0.658307210031\n"
     ]
    },
    {
     "data": {
      "text/plain": [
       "0.5829114420062695"
      ]
     },
     "execution_count": 385,
     "metadata": {},
     "output_type": "execute_result"
    }
   ],
   "source": [
    "reg = linear_model.Lasso(alpha = 0.01)\n",
    "(kappa,z) = kfoldValidation(rw,reg,5)\n",
    "z"
   ]
  },
  {
   "cell_type": "code",
   "execution_count": 392,
   "metadata": {
    "collapsed": false
   },
   "outputs": [
    {
     "name": "stdout",
     "output_type": "stream",
     "text": [
      "3918\n",
      "0.442857142857\n",
      "3918\n",
      "0.518367346939\n",
      "3918\n",
      "0.5\n",
      "3919\n",
      "0.5291113381\n",
      "3919\n",
      "0.533197139939\n"
     ]
    },
    {
     "data": {
      "text/plain": [
       "0.5047065935669467"
      ]
     },
     "execution_count": 392,
     "metadata": {},
     "output_type": "execute_result"
    }
   ],
   "source": [
    "reg = linear_model.Lasso(alpha = 0.01)\n",
    "(kappa,z) = kfoldValidation(ww,reg,5)\n",
    "z"
   ]
  },
  {
   "cell_type": "code",
   "execution_count": 390,
   "metadata": {
    "collapsed": false
   },
   "outputs": [
    {
     "name": "stdout",
     "output_type": "stream",
     "text": [
      "3918\n",
      "0.412244897959\n",
      "3918\n",
      "0.442857142857\n",
      "3918\n",
      "0.394897959184\n",
      "3919\n",
      "0.465781409602\n",
      "3919\n",
      "0.52808988764\n"
     ]
    },
    {
     "data": {
      "text/plain": [
       "0.44877425944841676"
      ]
     },
     "execution_count": 390,
     "metadata": {},
     "output_type": "execute_result"
    }
   ],
   "source": [
    "reg = linear_model.LassoLars(alpha=.2)\n",
    "(kappa,z) = kfoldValidation(ww,reg,5)\n",
    "z"
   ]
  },
  {
   "cell_type": "code",
   "execution_count": 394,
   "metadata": {
    "collapsed": false
   },
   "outputs": [
    {
     "name": "stdout",
     "output_type": "stream",
     "text": [
      "1279\n",
      "0.55625\n",
      "1279\n",
      "0.55625\n",
      "1279\n",
      "0.6\n",
      "1279\n",
      "0.559375\n",
      "1280\n",
      "0.655172413793\n"
     ]
    },
    {
     "data": {
      "text/plain": [
       "0.5854094827586206"
      ]
     },
     "execution_count": 394,
     "metadata": {},
     "output_type": "execute_result"
    }
   ],
   "source": [
    "reg = linear_model.BayesianRidge()\n",
    "(kappa,z) = kfoldValidation(rw,reg,5)\n",
    "z"
   ]
  },
  {
   "cell_type": "code",
   "execution_count": 396,
   "metadata": {
    "collapsed": false
   },
   "outputs": [
    {
     "name": "stdout",
     "output_type": "stream",
     "text": [
      "3918\n",
      "0.459183673469\n",
      "3918\n",
      "0.516326530612\n",
      "3918\n",
      "0.50612244898\n",
      "3919\n",
      "0.538304392237\n",
      "3919\n",
      "0.542390194076\n"
     ]
    },
    {
     "data": {
      "text/plain": [
       "0.5124654478747577"
      ]
     },
     "execution_count": 396,
     "metadata": {},
     "output_type": "execute_result"
    }
   ],
   "source": [
    "reg = linear_model.BayesianRidge()\n",
    "(kappa,z) = kfoldValidation(ww,reg,5)\n",
    "z"
   ]
  },
  {
   "cell_type": "code",
   "execution_count": 406,
   "metadata": {
    "collapsed": false
   },
   "outputs": [
    {
     "name": "stdout",
     "output_type": "stream",
     "text": [
      "3918\n",
      "0.397959183673\n",
      "3918\n",
      "0.395918367347\n",
      "3918\n",
      "0.420408163265\n",
      "3919\n",
      "0.418794688458\n",
      "3919\n",
      "0.482124616956\n"
     ]
    },
    {
     "data": {
      "text/plain": [
       "0.4230410039398803"
      ]
     },
     "execution_count": 406,
     "metadata": {},
     "output_type": "execute_result"
    }
   ],
   "source": [
    "nbrs = neighbors.KNeighborsClassifier(35)\n",
    "(kappa,z) = kfoldValidation(ww,nbrs,5)\n",
    "z"
   ]
  },
  {
   "cell_type": "code",
   "execution_count": 407,
   "metadata": {
    "collapsed": false
   },
   "outputs": [
    {
     "name": "stdout",
     "output_type": "stream",
     "text": [
      "1279\n",
      "0.596875\n",
      "1279\n",
      "0.46875\n",
      "1279\n",
      "0.48125\n",
      "1279\n",
      "0.39375\n",
      "1280\n",
      "0.514106583072\n"
     ]
    },
    {
     "data": {
      "text/plain": [
       "0.4909463166144201"
      ]
     },
     "execution_count": 407,
     "metadata": {},
     "output_type": "execute_result"
    }
   ],
   "source": [
    "nbrs = neighbors.KNeighborsClassifier(35)\n",
    "(kappa,z) = kfoldValidation(rw,nbrs,5)\n",
    "z"
   ]
  },
  {
   "cell_type": "code",
   "execution_count": 409,
   "metadata": {
    "collapsed": false
   },
   "outputs": [
    {
     "name": "stdout",
     "output_type": "stream",
     "text": [
      "1279\n",
      "0.490625\n",
      "1279\n",
      "0.465625\n",
      "1279\n",
      "0.4125\n",
      "1279\n",
      "0.409375\n",
      "1280\n",
      "0.485893416928\n"
     ]
    },
    {
     "data": {
      "text/plain": [
       "0.45280368338557986"
      ]
     },
     "execution_count": 409,
     "metadata": {},
     "output_type": "execute_result"
    }
   ],
   "source": [
    "clf = DecisionTreeClassifier(random_state=0)\n",
    "(kappa,z) = kfoldValidation(rw,clf,5)\n",
    "z"
   ]
  },
  {
   "cell_type": "code",
   "execution_count": 410,
   "metadata": {
    "collapsed": false
   },
   "outputs": [
    {
     "name": "stdout",
     "output_type": "stream",
     "text": [
      "3918\n",
      "0.376530612245\n",
      "3918\n",
      "0.358163265306\n",
      "3918\n",
      "0.432653061224\n",
      "3919\n",
      "0.395301327886\n",
      "3919\n",
      "0.390194075587\n"
     ]
    },
    {
     "data": {
      "text/plain": [
       "0.3905684684496883"
      ]
     },
     "execution_count": 410,
     "metadata": {},
     "output_type": "execute_result"
    }
   ],
   "source": [
    "clf = DecisionTreeClassifier(random_state=0)\n",
    "(kappa,z) = kfoldValidation(ww,clf,5)\n",
    "z"
   ]
  },
  {
   "cell_type": "code",
   "execution_count": 412,
   "metadata": {
    "collapsed": true
   },
   "outputs": [],
   "source": [
    "def tradaboost(df1,df2,learner):\n",
    "    w1 = 1/float(len(df1))\n",
    "    w2 = 1/float(len(df2))\n",
    "    b = 1/(1+sqrt(w*log(len(df1))/(len(df1)+len(df2))))\n",
    "    for t in range(1,n):\n",
    "        p = \n",
    "    return\n",
    "    "
   ]
  },
  {
   "cell_type": "code",
   "execution_count": 8,
   "metadata": {
    "collapsed": false
   },
   "outputs": [
    {
     "data": {
      "image/png": "[encoded data removed]",
      "text/plain": [
       "<matplotlib.figure.Figure at 0x11527f910>"
      ]
     },
     "metadata": {},
     "output_type": "display_data"
    }
   ],
   "source": [
    "svr_linear = SVR(kernel='linear')\n",
    "y_linear = svr_linear.fit(x, y).predict(x)\n",
    "plt.scatter(y, y_linear, color='#ffcc00',lw=lw, label='RBF model')\n",
    "plt.show()"
   ]
  },
  {
   "cell_type": "code",
   "execution_count": 66,
   "metadata": {
    "collapsed": false
   },
   "outputs": [
    {
     "data": {
      "text/plain": [
       "(1279, 12)"
      ]
     },
     "execution_count": 66,
     "metadata": {},
     "output_type": "execute_result"
    }
   ],
   "source": [
    "kappa = compute(y,y_rbf)\n",
    "trainset = rw.sample(frac=0.8, replace=True)\n",
    "trainindex = trainset.index.tolist()\n",
    "#trainindex\n",
    "select = map(lambda x: not x in trainindex,rw.index)\n",
    "#(142 in trainindex)\n",
    "rw[select].shape\n",
    "trainset.shape"
   ]
  },
  {
   "cell_type": "code",
   "execution_count": 21,
   "metadata": {
    "collapsed": false
   },
   "outputs": [
    {
     "data": {
      "text/html": [
       "<div>\n",
       "<table border=\"1\" class=\"dataframe\">\n",
       "  <thead>\n",
       "    <tr style=\"text-align: right;\">\n",
       "      <th></th>\n",
       "      <th>3</th>\n",
       "      <th>4</th>\n",
       "      <th>5</th>\n",
       "      <th>6</th>\n",
       "      <th>7</th>\n",
       "      <th>8</th>\n",
       "    </tr>\n",
       "  </thead>\n",
       "  <tbody>\n",
       "    <tr>\n",
       "      <th>3</th>\n",
       "      <td>5</td>\n",
       "      <td>2</td>\n",
       "      <td>3</td>\n",
       "      <td>0</td>\n",
       "      <td>0</td>\n",
       "      <td>0</td>\n",
       "    </tr>\n",
       "    <tr>\n",
       "      <th>4</th>\n",
       "      <td>0</td>\n",
       "      <td>33</td>\n",
       "      <td>19</td>\n",
       "      <td>1</td>\n",
       "      <td>0</td>\n",
       "      <td>0</td>\n",
       "    </tr>\n",
       "    <tr>\n",
       "      <th>5</th>\n",
       "      <td>0</td>\n",
       "      <td>0</td>\n",
       "      <td>655</td>\n",
       "      <td>25</td>\n",
       "      <td>1</td>\n",
       "      <td>0</td>\n",
       "    </tr>\n",
       "    <tr>\n",
       "      <th>6</th>\n",
       "      <td>0</td>\n",
       "      <td>0</td>\n",
       "      <td>26</td>\n",
       "      <td>607</td>\n",
       "      <td>5</td>\n",
       "      <td>0</td>\n",
       "    </tr>\n",
       "    <tr>\n",
       "      <th>7</th>\n",
       "      <td>0</td>\n",
       "      <td>0</td>\n",
       "      <td>1</td>\n",
       "      <td>19</td>\n",
       "      <td>179</td>\n",
       "      <td>0</td>\n",
       "    </tr>\n",
       "    <tr>\n",
       "      <th>8</th>\n",
       "      <td>0</td>\n",
       "      <td>0</td>\n",
       "      <td>0</td>\n",
       "      <td>4</td>\n",
       "      <td>5</td>\n",
       "      <td>9</td>\n",
       "    </tr>\n",
       "  </tbody>\n",
       "</table>\n",
       "</div>"
      ],
      "text/plain": [
       "   3   4    5    6    7  8\n",
       "3  5   2    3    0    0  0\n",
       "4  0  33   19    1    0  0\n",
       "5  0   0  655   25    1  0\n",
       "6  0   0   26  607    5  0\n",
       "7  0   0    1   19  179  0\n",
       "8  0   0    0    4    5  9"
      ]
     },
     "execution_count": 21,
     "metadata": {},
     "output_type": "execute_result"
    }
   ],
   "source": [
    "df"
   ]
  },
  {
   "cell_type": "code",
   "execution_count": null,
   "metadata": {
    "collapsed": true
   },
   "outputs": [],
   "source": []
  }
 ],
 "metadata": {
  "anaconda-cloud": {},
  "kernelspec": {
   "display_name": "Python [conda root]",
   "language": "python",
   "name": "conda-root-py"
  },
  "language_info": {
   "codemirror_mode": {
    "name": "ipython",
    "version": 2
   },
   "file_extension": ".py",
   "mimetype": "text/x-python",
   "name": "python",
   "nbconvert_exporter": "python",
   "pygments_lexer": "ipython2",
   "version": "2.7.12"
  }
 },
 "nbformat": 4,
 "nbformat_minor": 1
}
